{
 "cells": [
  {
   "cell_type": "markdown",
   "id": "military-broadcasting",
   "metadata": {},
   "source": [
    "## CmdStanPyの動作確認"
   ]
  },
  {
   "cell_type": "code",
   "execution_count": 1,
   "id": "advised-russian",
   "metadata": {},
   "outputs": [
    {
     "name": "stderr",
     "output_type": "stream",
     "text": [
      "INFO:cmdstanpy:found newer exe file, not recompiling\n",
      "INFO:cmdstanpy:compiled model file: /root/.cmdstan/cmdstan-2.26.1/examples/bernoulli/bernoulli\n"
     ]
    },
    {
     "name": "stdout",
     "output_type": "stream",
     "text": [
      "CmdStanModel: name=bernoulli\n",
      "\t stan_file=/root/.cmdstan/cmdstan-2.26.1/examples/bernoulli/bernoulli.stan\n",
      "\t exe_file=/root/.cmdstan/cmdstan-2.26.1/examples/bernoulli/bernoulli\n",
      "\t compiler_options=stanc_options=None, cpp_options=None\n"
     ]
    }
   ],
   "source": [
    "# import packages\n",
    "import os\n",
    "from cmdstanpy import cmdstan_path, CmdStanModel\n",
    "\n",
    "# specify Stan program file\n",
    "bernoulli_stan = os.path.join(cmdstan_path(), 'examples', 'bernoulli', 'bernoulli.stan')\n",
    "\n",
    "# instantiate the model; compiles the Stan program as needed.\n",
    "bernoulli_model = CmdStanModel(stan_file=bernoulli_stan)\n",
    "\n",
    "# inspect model object\n",
    "print(bernoulli_model)"
   ]
  },
  {
   "cell_type": "code",
   "execution_count": 2,
   "id": "varied-parts",
   "metadata": {},
   "outputs": [
    {
     "name": "stderr",
     "output_type": "stream",
     "text": [
      "INFO:cmdstanpy:start chain 1\n",
      "INFO:cmdstanpy:start chain 2\n",
      "INFO:cmdstanpy:start chain 3\n",
      "INFO:cmdstanpy:finish chain 1\n",
      "INFO:cmdstanpy:start chain 4\n",
      "INFO:cmdstanpy:finish chain 3\n",
      "INFO:cmdstanpy:finish chain 2\n",
      "INFO:cmdstanpy:finish chain 4\n"
     ]
    },
    {
     "name": "stdout",
     "output_type": "stream",
     "text": [
      "CmdStanMCMC: model=bernoulli chains=4['method=sample', 'algorithm=hmc', 'adapt', 'engaged=1']\n",
      " csv_files:\n",
      "\t/workdir/demo/bernoulli-202103061600-1.csv\n",
      "\t/workdir/demo/bernoulli-202103061600-2.csv\n",
      "\t/workdir/demo/bernoulli-202103061600-3.csv\n",
      "\t/workdir/demo/bernoulli-202103061600-4.csv\n",
      " output_files:\n",
      "\t/workdir/demo/bernoulli-202103061600-1-stdout.txt\n",
      "\t/workdir/demo/bernoulli-202103061600-2-stdout.txt\n",
      "\t/workdir/demo/bernoulli-202103061600-3-stdout.txt\n",
      "\t/workdir/demo/bernoulli-202103061600-4-stdout.txt\n"
     ]
    }
   ],
   "source": [
    "# specify data file\n",
    "bernoulli_data = os.path.join(cmdstan_path(), 'examples', 'bernoulli', 'bernoulli.data.json')\n",
    "\n",
    "# fit the model\n",
    "bern_fit = bernoulli_model.sample(data=bernoulli_data, output_dir='.')\n",
    "\n",
    "# printing the object reports sampler commands, output files\n",
    "print(bern_fit)"
   ]
  },
  {
   "cell_type": "code",
   "execution_count": 3,
   "id": "continuing-angola",
   "metadata": {},
   "outputs": [
    {
     "data": {
      "text/html": [
       "<div>\n",
       "<style scoped>\n",
       "    .dataframe tbody tr th:only-of-type {\n",
       "        vertical-align: middle;\n",
       "    }\n",
       "\n",
       "    .dataframe tbody tr th {\n",
       "        vertical-align: top;\n",
       "    }\n",
       "\n",
       "    .dataframe thead th {\n",
       "        text-align: right;\n",
       "    }\n",
       "</style>\n",
       "<table border=\"1\" class=\"dataframe\">\n",
       "  <thead>\n",
       "    <tr style=\"text-align: right;\">\n",
       "      <th></th>\n",
       "      <th>Mean</th>\n",
       "      <th>MCSE</th>\n",
       "      <th>StdDev</th>\n",
       "      <th>5%</th>\n",
       "      <th>50%</th>\n",
       "      <th>95%</th>\n",
       "      <th>N_Eff</th>\n",
       "      <th>N_Eff/s</th>\n",
       "      <th>R_hat</th>\n",
       "    </tr>\n",
       "    <tr>\n",
       "      <th>name</th>\n",
       "      <th></th>\n",
       "      <th></th>\n",
       "      <th></th>\n",
       "      <th></th>\n",
       "      <th></th>\n",
       "      <th></th>\n",
       "      <th></th>\n",
       "      <th></th>\n",
       "      <th></th>\n",
       "    </tr>\n",
       "  </thead>\n",
       "  <tbody>\n",
       "    <tr>\n",
       "      <th>lp__</th>\n",
       "      <td>-7.30</td>\n",
       "      <td>0.0220</td>\n",
       "      <td>0.79</td>\n",
       "      <td>-8.900</td>\n",
       "      <td>-7.00</td>\n",
       "      <td>-6.70</td>\n",
       "      <td>1300.0</td>\n",
       "      <td>370.0</td>\n",
       "      <td>1.0</td>\n",
       "    </tr>\n",
       "    <tr>\n",
       "      <th>theta</th>\n",
       "      <td>0.25</td>\n",
       "      <td>0.0034</td>\n",
       "      <td>0.12</td>\n",
       "      <td>0.077</td>\n",
       "      <td>0.24</td>\n",
       "      <td>0.49</td>\n",
       "      <td>1300.0</td>\n",
       "      <td>370.0</td>\n",
       "      <td>1.0</td>\n",
       "    </tr>\n",
       "  </tbody>\n",
       "</table>\n",
       "</div>"
      ],
      "text/plain": [
       "       Mean    MCSE  StdDev     5%   50%   95%   N_Eff  N_Eff/s  R_hat\n",
       "name                                                                  \n",
       "lp__  -7.30  0.0220    0.79 -8.900 -7.00 -6.70  1300.0    370.0    1.0\n",
       "theta  0.25  0.0034    0.12  0.077  0.24  0.49  1300.0    370.0    1.0"
      ]
     },
     "execution_count": 3,
     "metadata": {},
     "output_type": "execute_result"
    }
   ],
   "source": [
    "bern_fit.summary()"
   ]
  },
  {
   "cell_type": "code",
   "execution_count": 4,
   "id": "reflected-lease",
   "metadata": {},
   "outputs": [
    {
     "name": "stderr",
     "output_type": "stream",
     "text": [
      "INFO:cmdstanpy:Processing csv files: /workdir/demo/bernoulli-202103061600-1.csv, /workdir/demo/bernoulli-202103061600-2.csv, /workdir/demo/bernoulli-202103061600-3.csv, /workdir/demo/bernoulli-202103061600-4.csv\n",
      "\n",
      "Checking sampler transitions treedepth.\n",
      "Treedepth satisfactory for all transitions.\n",
      "\n",
      "Checking sampler transitions for divergences.\n",
      "No divergent transitions found.\n",
      "\n",
      "Checking E-BFMI - sampler transitions HMC potential energy.\n",
      "E-BFMI satisfactory for all transitions.\n",
      "\n",
      "Effective sample size satisfactory.\n",
      "\n",
      "Split R-hat values satisfactory all parameters.\n",
      "\n",
      "Processing complete, no problems detected.\n"
     ]
    },
    {
     "data": {
      "text/plain": [
       "'Processing csv files: /workdir/demo/bernoulli-202103061600-1.csv, /workdir/demo/bernoulli-202103061600-2.csv, /workdir/demo/bernoulli-202103061600-3.csv, /workdir/demo/bernoulli-202103061600-4.csv\\n\\nChecking sampler transitions treedepth.\\nTreedepth satisfactory for all transitions.\\n\\nChecking sampler transitions for divergences.\\nNo divergent transitions found.\\n\\nChecking E-BFMI - sampler transitions HMC potential energy.\\nE-BFMI satisfactory for all transitions.\\n\\nEffective sample size satisfactory.\\n\\nSplit R-hat values satisfactory all parameters.\\n\\nProcessing complete, no problems detected.'"
      ]
     },
     "execution_count": 4,
     "metadata": {},
     "output_type": "execute_result"
    }
   ],
   "source": [
    "bern_fit.diagnose()"
   ]
  },
  {
   "cell_type": "code",
   "execution_count": null,
   "id": "sorted-cement",
   "metadata": {},
   "outputs": [],
   "source": []
  }
 ],
 "metadata": {
  "kernelspec": {
   "display_name": "Python 3",
   "language": "python",
   "name": "python3"
  },
  "language_info": {
   "codemirror_mode": {
    "name": "ipython",
    "version": 3
   },
   "file_extension": ".py",
   "mimetype": "text/x-python",
   "name": "python",
   "nbconvert_exporter": "python",
   "pygments_lexer": "ipython3",
   "version": "3.8.5"
  }
 },
 "nbformat": 4,
 "nbformat_minor": 5
}
