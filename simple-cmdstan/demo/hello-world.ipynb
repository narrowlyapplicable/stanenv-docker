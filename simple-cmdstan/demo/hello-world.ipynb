{
 "cells": [
  {
   "cell_type": "markdown",
   "id": "important-republic",
   "metadata": {},
   "source": [
    "## CmdStanPyの動作確認"
   ]
  },
  {
   "cell_type": "markdown",
   "id": "precious-paste",
   "metadata": {},
   "source": [
    "### CmdStanPy公式の\"Hello World\""
   ]
  },
  {
   "cell_type": "code",
   "execution_count": 1,
   "id": "crazy-nelson",
   "metadata": {},
   "outputs": [
    {
     "name": "stderr",
     "output_type": "stream",
     "text": [
      "INFO:cmdstanpy:found newer exe file, not recompiling\n",
      "INFO:cmdstanpy:compiled model file: /root/.cmdstan/cmdstan-2.26.1/examples/bernoulli/bernoulli\n"
     ]
    },
    {
     "name": "stdout",
     "output_type": "stream",
     "text": [
      "CmdStanModel: name=bernoulli\n",
      "\t stan_file=/root/.cmdstan/cmdstan-2.26.1/examples/bernoulli/bernoulli.stan\n",
      "\t exe_file=/root/.cmdstan/cmdstan-2.26.1/examples/bernoulli/bernoulli\n",
      "\t compiler_options=stanc_options=None, cpp_options=None\n"
     ]
    }
   ],
   "source": [
    "# import packages\n",
    "import os\n",
    "from cmdstanpy import cmdstan_path, CmdStanModel\n",
    "\n",
    "# specify Stan program file\n",
    "bernoulli_stan = os.path.join(cmdstan_path(), 'examples', 'bernoulli', 'bernoulli.stan')\n",
    "\n",
    "# instantiate the model; compiles the Stan program as needed.\n",
    "bernoulli_model = CmdStanModel(stan_file=bernoulli_stan)\n",
    "\n",
    "# inspect model object\n",
    "print(bernoulli_model)"
   ]
  },
  {
   "cell_type": "code",
   "execution_count": 2,
   "id": "living-medline",
   "metadata": {},
   "outputs": [
    {
     "name": "stderr",
     "output_type": "stream",
     "text": [
      "INFO:cmdstanpy:start chain 1\n",
      "INFO:cmdstanpy:start chain 2\n",
      "INFO:cmdstanpy:start chain 3\n",
      "INFO:cmdstanpy:finish chain 1\n",
      "INFO:cmdstanpy:start chain 4\n",
      "INFO:cmdstanpy:finish chain 3\n",
      "INFO:cmdstanpy:finish chain 2\n",
      "INFO:cmdstanpy:finish chain 4\n"
     ]
    },
    {
     "name": "stdout",
     "output_type": "stream",
     "text": [
      "CmdStanMCMC: model=bernoulli chains=4['method=sample', 'algorithm=hmc', 'adapt', 'engaged=1']\n",
      " csv_files:\n",
      "\t/workdir/demo/bernoulli-202103070614-1.csv\n",
      "\t/workdir/demo/bernoulli-202103070614-2.csv\n",
      "\t/workdir/demo/bernoulli-202103070614-3.csv\n",
      "\t/workdir/demo/bernoulli-202103070614-4.csv\n",
      " output_files:\n",
      "\t/workdir/demo/bernoulli-202103070614-1-stdout.txt\n",
      "\t/workdir/demo/bernoulli-202103070614-2-stdout.txt\n",
      "\t/workdir/demo/bernoulli-202103070614-3-stdout.txt\n",
      "\t/workdir/demo/bernoulli-202103070614-4-stdout.txt\n"
     ]
    }
   ],
   "source": [
    "# specify data file\n",
    "bernoulli_data = os.path.join(cmdstan_path(), 'examples', 'bernoulli', 'bernoulli.data.json')\n",
    "\n",
    "# fit the model\n",
    "bern_fit = bernoulli_model.sample(data=bernoulli_data, output_dir='.')\n",
    "\n",
    "# printing the object reports sampler commands, output files\n",
    "print(bern_fit)"
   ]
  },
  {
   "cell_type": "code",
   "execution_count": 3,
   "id": "hydraulic-listening",
   "metadata": {},
   "outputs": [
    {
     "data": {
      "text/html": [
       "<div>\n",
       "<style scoped>\n",
       "    .dataframe tbody tr th:only-of-type {\n",
       "        vertical-align: middle;\n",
       "    }\n",
       "\n",
       "    .dataframe tbody tr th {\n",
       "        vertical-align: top;\n",
       "    }\n",
       "\n",
       "    .dataframe thead th {\n",
       "        text-align: right;\n",
       "    }\n",
       "</style>\n",
       "<table border=\"1\" class=\"dataframe\">\n",
       "  <thead>\n",
       "    <tr style=\"text-align: right;\">\n",
       "      <th></th>\n",
       "      <th>Mean</th>\n",
       "      <th>MCSE</th>\n",
       "      <th>StdDev</th>\n",
       "      <th>5%</th>\n",
       "      <th>50%</th>\n",
       "      <th>95%</th>\n",
       "      <th>N_Eff</th>\n",
       "      <th>N_Eff/s</th>\n",
       "      <th>R_hat</th>\n",
       "    </tr>\n",
       "    <tr>\n",
       "      <th>name</th>\n",
       "      <th></th>\n",
       "      <th></th>\n",
       "      <th></th>\n",
       "      <th></th>\n",
       "      <th></th>\n",
       "      <th></th>\n",
       "      <th></th>\n",
       "      <th></th>\n",
       "      <th></th>\n",
       "    </tr>\n",
       "  </thead>\n",
       "  <tbody>\n",
       "    <tr>\n",
       "      <th>lp__</th>\n",
       "      <td>-7.30</td>\n",
       "      <td>0.0200</td>\n",
       "      <td>0.76</td>\n",
       "      <td>-8.900</td>\n",
       "      <td>-7.00</td>\n",
       "      <td>-6.80</td>\n",
       "      <td>1400.0</td>\n",
       "      <td>590.0</td>\n",
       "      <td>1.0</td>\n",
       "    </tr>\n",
       "    <tr>\n",
       "      <th>theta</th>\n",
       "      <td>0.25</td>\n",
       "      <td>0.0033</td>\n",
       "      <td>0.12</td>\n",
       "      <td>0.075</td>\n",
       "      <td>0.23</td>\n",
       "      <td>0.46</td>\n",
       "      <td>1300.0</td>\n",
       "      <td>560.0</td>\n",
       "      <td>1.0</td>\n",
       "    </tr>\n",
       "  </tbody>\n",
       "</table>\n",
       "</div>"
      ],
      "text/plain": [
       "       Mean    MCSE  StdDev     5%   50%   95%   N_Eff  N_Eff/s  R_hat\n",
       "name                                                                  \n",
       "lp__  -7.30  0.0200    0.76 -8.900 -7.00 -6.80  1400.0    590.0    1.0\n",
       "theta  0.25  0.0033    0.12  0.075  0.23  0.46  1300.0    560.0    1.0"
      ]
     },
     "execution_count": 3,
     "metadata": {},
     "output_type": "execute_result"
    }
   ],
   "source": [
    "bern_fit.summary()"
   ]
  },
  {
   "cell_type": "code",
   "execution_count": 4,
   "id": "explicit-commons",
   "metadata": {},
   "outputs": [
    {
     "name": "stderr",
     "output_type": "stream",
     "text": [
      "INFO:cmdstanpy:Processing csv files: /workdir/demo/bernoulli-202103070614-1.csv, /workdir/demo/bernoulli-202103070614-2.csv, /workdir/demo/bernoulli-202103070614-3.csv, /workdir/demo/bernoulli-202103070614-4.csv\n",
      "\n",
      "Checking sampler transitions treedepth.\n",
      "Treedepth satisfactory for all transitions.\n",
      "\n",
      "Checking sampler transitions for divergences.\n",
      "No divergent transitions found.\n",
      "\n",
      "Checking E-BFMI - sampler transitions HMC potential energy.\n",
      "E-BFMI satisfactory for all transitions.\n",
      "\n",
      "Effective sample size satisfactory.\n",
      "\n",
      "Split R-hat values satisfactory all parameters.\n",
      "\n",
      "Processing complete, no problems detected.\n"
     ]
    },
    {
     "data": {
      "text/plain": [
       "'Processing csv files: /workdir/demo/bernoulli-202103070614-1.csv, /workdir/demo/bernoulli-202103070614-2.csv, /workdir/demo/bernoulli-202103070614-3.csv, /workdir/demo/bernoulli-202103070614-4.csv\\n\\nChecking sampler transitions treedepth.\\nTreedepth satisfactory for all transitions.\\n\\nChecking sampler transitions for divergences.\\nNo divergent transitions found.\\n\\nChecking E-BFMI - sampler transitions HMC potential energy.\\nE-BFMI satisfactory for all transitions.\\n\\nEffective sample size satisfactory.\\n\\nSplit R-hat values satisfactory all parameters.\\n\\nProcessing complete, no problems detected.'"
      ]
     },
     "execution_count": 4,
     "metadata": {},
     "output_type": "execute_result"
    }
   ],
   "source": [
    "bern_fit.diagnose()"
   ]
  },
  {
   "cell_type": "markdown",
   "id": "certain-expert",
   "metadata": {},
   "source": [
    "### 8schools\n",
    "- pystanとの速度比較"
   ]
  },
  {
   "cell_type": "code",
   "execution_count": 5,
   "id": "higher-steel",
   "metadata": {},
   "outputs": [
    {
     "name": "stderr",
     "output_type": "stream",
     "text": [
      "INFO:cmdstanpy:compiling stan program, exe file: /workdir/demo/8schools\n",
      "INFO:cmdstanpy:compiler options: stanc_options=None, cpp_options=None\n",
      "INFO:cmdstanpy:compiled model file: /workdir/demo/8schools\n"
     ]
    },
    {
     "name": "stdout",
     "output_type": "stream",
     "text": [
      "CPU times: user 5.14 ms, sys: 4.22 ms, total: 9.37 ms\n",
      "Wall time: 17.5 s\n"
     ]
    }
   ],
   "source": [
    "%%time\n",
    "model = CmdStanModel(stan_file=\"8schools.stan\")"
   ]
  },
  {
   "cell_type": "markdown",
   "id": "congressional-quest",
   "metadata": {},
   "source": [
    "- 17~19s程度でコンパイルできた。\n",
    "- pystan2では1min超を要したから、確かにコンパイルはかなり高速と言える。\n",
    "  - コンパイルしたモデルは保存されており、2回目以降は数秒で読み込める。(`8schools`と`8schools.hpp`を削除すれば初回同様となる)"
   ]
  },
  {
   "cell_type": "code",
   "execution_count": 6,
   "id": "awful-chain",
   "metadata": {},
   "outputs": [
    {
     "name": "stderr",
     "output_type": "stream",
     "text": [
      "INFO:cmdstanpy:start chain 1\n",
      "INFO:cmdstanpy:start chain 2\n",
      "INFO:cmdstanpy:start chain 3\n",
      "INFO:cmdstanpy:finish chain 1\n",
      "INFO:cmdstanpy:start chain 4\n",
      "INFO:cmdstanpy:finish chain 2\n",
      "INFO:cmdstanpy:finish chain 3\n",
      "INFO:cmdstanpy:finish chain 4\n"
     ]
    },
    {
     "name": "stdout",
     "output_type": "stream",
     "text": [
      "CPU times: user 48.1 ms, sys: 30.6 ms, total: 78.7 ms\n",
      "Wall time: 238 ms\n"
     ]
    }
   ],
   "source": [
    "%%time\n",
    "data = \"8schools.data.json\"\n",
    "fit = model.sample(data=data, iter_sampling=1000, iter_warmup=500)"
   ]
  },
  {
   "cell_type": "markdown",
   "id": "jewish-editing",
   "metadata": {},
   "source": [
    "- 200ms強を要しており、微差ではあるがPyStan2（163ms）よりやや遅い？"
   ]
  },
  {
   "cell_type": "code",
   "execution_count": 7,
   "id": "going-iceland",
   "metadata": {},
   "outputs": [
    {
     "data": {
      "text/html": [
       "<div>\n",
       "<style scoped>\n",
       "    .dataframe tbody tr th:only-of-type {\n",
       "        vertical-align: middle;\n",
       "    }\n",
       "\n",
       "    .dataframe tbody tr th {\n",
       "        vertical-align: top;\n",
       "    }\n",
       "\n",
       "    .dataframe thead th {\n",
       "        text-align: right;\n",
       "    }\n",
       "</style>\n",
       "<table border=\"1\" class=\"dataframe\">\n",
       "  <thead>\n",
       "    <tr style=\"text-align: right;\">\n",
       "      <th></th>\n",
       "      <th>Mean</th>\n",
       "      <th>MCSE</th>\n",
       "      <th>StdDev</th>\n",
       "      <th>5%</th>\n",
       "      <th>50%</th>\n",
       "      <th>95%</th>\n",
       "      <th>N_Eff</th>\n",
       "      <th>N_Eff/s</th>\n",
       "      <th>R_hat</th>\n",
       "    </tr>\n",
       "    <tr>\n",
       "      <th>name</th>\n",
       "      <th></th>\n",
       "      <th></th>\n",
       "      <th></th>\n",
       "      <th></th>\n",
       "      <th></th>\n",
       "      <th></th>\n",
       "      <th></th>\n",
       "      <th></th>\n",
       "      <th></th>\n",
       "    </tr>\n",
       "  </thead>\n",
       "  <tbody>\n",
       "    <tr>\n",
       "      <th>lp__</th>\n",
       "      <td>-4.900</td>\n",
       "      <td>0.083</td>\n",
       "      <td>2.70</td>\n",
       "      <td>-9.80</td>\n",
       "      <td>-4.700</td>\n",
       "      <td>-0.82</td>\n",
       "      <td>1100.0</td>\n",
       "      <td>5100.0</td>\n",
       "      <td>1.0</td>\n",
       "    </tr>\n",
       "    <tr>\n",
       "      <th>mu</th>\n",
       "      <td>8.100</td>\n",
       "      <td>0.170</td>\n",
       "      <td>5.50</td>\n",
       "      <td>-0.73</td>\n",
       "      <td>8.000</td>\n",
       "      <td>17.00</td>\n",
       "      <td>1100.0</td>\n",
       "      <td>5200.0</td>\n",
       "      <td>1.0</td>\n",
       "    </tr>\n",
       "    <tr>\n",
       "      <th>tau</th>\n",
       "      <td>6.900</td>\n",
       "      <td>0.180</td>\n",
       "      <td>5.80</td>\n",
       "      <td>0.50</td>\n",
       "      <td>5.500</td>\n",
       "      <td>18.00</td>\n",
       "      <td>1000.0</td>\n",
       "      <td>4900.0</td>\n",
       "      <td>1.0</td>\n",
       "    </tr>\n",
       "    <tr>\n",
       "      <th>eta[1]</th>\n",
       "      <td>0.400</td>\n",
       "      <td>0.014</td>\n",
       "      <td>0.94</td>\n",
       "      <td>-1.20</td>\n",
       "      <td>0.420</td>\n",
       "      <td>2.00</td>\n",
       "      <td>4500.0</td>\n",
       "      <td>21740.0</td>\n",
       "      <td>1.0</td>\n",
       "    </tr>\n",
       "    <tr>\n",
       "      <th>eta[2]</th>\n",
       "      <td>-0.013</td>\n",
       "      <td>0.014</td>\n",
       "      <td>0.86</td>\n",
       "      <td>-1.40</td>\n",
       "      <td>-0.012</td>\n",
       "      <td>1.40</td>\n",
       "      <td>3822.0</td>\n",
       "      <td>18462.0</td>\n",
       "      <td>1.0</td>\n",
       "    </tr>\n",
       "    <tr>\n",
       "      <th>eta[3]</th>\n",
       "      <td>-0.210</td>\n",
       "      <td>0.014</td>\n",
       "      <td>0.93</td>\n",
       "      <td>-1.70</td>\n",
       "      <td>-0.210</td>\n",
       "      <td>1.30</td>\n",
       "      <td>4632.0</td>\n",
       "      <td>22375.0</td>\n",
       "      <td>1.0</td>\n",
       "    </tr>\n",
       "    <tr>\n",
       "      <th>eta[4]</th>\n",
       "      <td>-0.051</td>\n",
       "      <td>0.013</td>\n",
       "      <td>0.90</td>\n",
       "      <td>-1.50</td>\n",
       "      <td>-0.033</td>\n",
       "      <td>1.40</td>\n",
       "      <td>4611.0</td>\n",
       "      <td>22274.0</td>\n",
       "      <td>1.0</td>\n",
       "    </tr>\n",
       "    <tr>\n",
       "      <th>eta[5]</th>\n",
       "      <td>-0.360</td>\n",
       "      <td>0.014</td>\n",
       "      <td>0.87</td>\n",
       "      <td>-1.80</td>\n",
       "      <td>-0.380</td>\n",
       "      <td>1.10</td>\n",
       "      <td>3701.0</td>\n",
       "      <td>17877.0</td>\n",
       "      <td>1.0</td>\n",
       "    </tr>\n",
       "    <tr>\n",
       "      <th>eta[6]</th>\n",
       "      <td>-0.220</td>\n",
       "      <td>0.013</td>\n",
       "      <td>0.91</td>\n",
       "      <td>-1.70</td>\n",
       "      <td>-0.250</td>\n",
       "      <td>1.30</td>\n",
       "      <td>4584.0</td>\n",
       "      <td>22147.0</td>\n",
       "      <td>1.0</td>\n",
       "    </tr>\n",
       "    <tr>\n",
       "      <th>eta[7]</th>\n",
       "      <td>0.330</td>\n",
       "      <td>0.015</td>\n",
       "      <td>0.89</td>\n",
       "      <td>-1.20</td>\n",
       "      <td>0.350</td>\n",
       "      <td>1.80</td>\n",
       "      <td>3643.0</td>\n",
       "      <td>17598.0</td>\n",
       "      <td>1.0</td>\n",
       "    </tr>\n",
       "    <tr>\n",
       "      <th>eta[8]</th>\n",
       "      <td>0.060</td>\n",
       "      <td>0.015</td>\n",
       "      <td>0.96</td>\n",
       "      <td>-1.60</td>\n",
       "      <td>0.061</td>\n",
       "      <td>1.60</td>\n",
       "      <td>4261.0</td>\n",
       "      <td>20585.0</td>\n",
       "      <td>1.0</td>\n",
       "    </tr>\n",
       "    <tr>\n",
       "      <th>theta[1]</th>\n",
       "      <td>12.000</td>\n",
       "      <td>0.180</td>\n",
       "      <td>8.70</td>\n",
       "      <td>-0.37</td>\n",
       "      <td>10.000</td>\n",
       "      <td>29.00</td>\n",
       "      <td>2333.0</td>\n",
       "      <td>11272.0</td>\n",
       "      <td>1.0</td>\n",
       "    </tr>\n",
       "    <tr>\n",
       "      <th>theta[2]</th>\n",
       "      <td>7.900</td>\n",
       "      <td>0.090</td>\n",
       "      <td>6.30</td>\n",
       "      <td>-2.60</td>\n",
       "      <td>7.800</td>\n",
       "      <td>18.00</td>\n",
       "      <td>4946.0</td>\n",
       "      <td>23894.0</td>\n",
       "      <td>1.0</td>\n",
       "    </tr>\n",
       "    <tr>\n",
       "      <th>theta[3]</th>\n",
       "      <td>6.100</td>\n",
       "      <td>0.140</td>\n",
       "      <td>8.00</td>\n",
       "      <td>-7.60</td>\n",
       "      <td>6.600</td>\n",
       "      <td>19.00</td>\n",
       "      <td>3370.0</td>\n",
       "      <td>16281.0</td>\n",
       "      <td>1.0</td>\n",
       "    </tr>\n",
       "    <tr>\n",
       "      <th>theta[4]</th>\n",
       "      <td>7.600</td>\n",
       "      <td>0.094</td>\n",
       "      <td>6.60</td>\n",
       "      <td>-3.40</td>\n",
       "      <td>7.600</td>\n",
       "      <td>18.00</td>\n",
       "      <td>5026.0</td>\n",
       "      <td>24282.0</td>\n",
       "      <td>1.0</td>\n",
       "    </tr>\n",
       "    <tr>\n",
       "      <th>theta[5]</th>\n",
       "      <td>5.000</td>\n",
       "      <td>0.100</td>\n",
       "      <td>6.50</td>\n",
       "      <td>-6.20</td>\n",
       "      <td>5.500</td>\n",
       "      <td>15.00</td>\n",
       "      <td>4154.0</td>\n",
       "      <td>20069.0</td>\n",
       "      <td>1.0</td>\n",
       "    </tr>\n",
       "    <tr>\n",
       "      <th>theta[6]</th>\n",
       "      <td>6.100</td>\n",
       "      <td>0.100</td>\n",
       "      <td>6.80</td>\n",
       "      <td>-6.00</td>\n",
       "      <td>6.500</td>\n",
       "      <td>17.00</td>\n",
       "      <td>4265.0</td>\n",
       "      <td>20604.0</td>\n",
       "      <td>1.0</td>\n",
       "    </tr>\n",
       "    <tr>\n",
       "      <th>theta[7]</th>\n",
       "      <td>11.000</td>\n",
       "      <td>0.110</td>\n",
       "      <td>6.90</td>\n",
       "      <td>0.79</td>\n",
       "      <td>10.000</td>\n",
       "      <td>23.00</td>\n",
       "      <td>3599.0</td>\n",
       "      <td>17385.0</td>\n",
       "      <td>1.0</td>\n",
       "    </tr>\n",
       "    <tr>\n",
       "      <th>theta[8]</th>\n",
       "      <td>8.600</td>\n",
       "      <td>0.130</td>\n",
       "      <td>8.30</td>\n",
       "      <td>-4.10</td>\n",
       "      <td>8.300</td>\n",
       "      <td>23.00</td>\n",
       "      <td>3933.0</td>\n",
       "      <td>19000.0</td>\n",
       "      <td>1.0</td>\n",
       "    </tr>\n",
       "  </tbody>\n",
       "</table>\n",
       "</div>"
      ],
      "text/plain": [
       "            Mean   MCSE  StdDev    5%     50%    95%   N_Eff  N_Eff/s  R_hat\n",
       "name                                                                        \n",
       "lp__      -4.900  0.083    2.70 -9.80  -4.700  -0.82  1100.0   5100.0    1.0\n",
       "mu         8.100  0.170    5.50 -0.73   8.000  17.00  1100.0   5200.0    1.0\n",
       "tau        6.900  0.180    5.80  0.50   5.500  18.00  1000.0   4900.0    1.0\n",
       "eta[1]     0.400  0.014    0.94 -1.20   0.420   2.00  4500.0  21740.0    1.0\n",
       "eta[2]    -0.013  0.014    0.86 -1.40  -0.012   1.40  3822.0  18462.0    1.0\n",
       "eta[3]    -0.210  0.014    0.93 -1.70  -0.210   1.30  4632.0  22375.0    1.0\n",
       "eta[4]    -0.051  0.013    0.90 -1.50  -0.033   1.40  4611.0  22274.0    1.0\n",
       "eta[5]    -0.360  0.014    0.87 -1.80  -0.380   1.10  3701.0  17877.0    1.0\n",
       "eta[6]    -0.220  0.013    0.91 -1.70  -0.250   1.30  4584.0  22147.0    1.0\n",
       "eta[7]     0.330  0.015    0.89 -1.20   0.350   1.80  3643.0  17598.0    1.0\n",
       "eta[8]     0.060  0.015    0.96 -1.60   0.061   1.60  4261.0  20585.0    1.0\n",
       "theta[1]  12.000  0.180    8.70 -0.37  10.000  29.00  2333.0  11272.0    1.0\n",
       "theta[2]   7.900  0.090    6.30 -2.60   7.800  18.00  4946.0  23894.0    1.0\n",
       "theta[3]   6.100  0.140    8.00 -7.60   6.600  19.00  3370.0  16281.0    1.0\n",
       "theta[4]   7.600  0.094    6.60 -3.40   7.600  18.00  5026.0  24282.0    1.0\n",
       "theta[5]   5.000  0.100    6.50 -6.20   5.500  15.00  4154.0  20069.0    1.0\n",
       "theta[6]   6.100  0.100    6.80 -6.00   6.500  17.00  4265.0  20604.0    1.0\n",
       "theta[7]  11.000  0.110    6.90  0.79  10.000  23.00  3599.0  17385.0    1.0\n",
       "theta[8]   8.600  0.130    8.30 -4.10   8.300  23.00  3933.0  19000.0    1.0"
      ]
     },
     "execution_count": 7,
     "metadata": {},
     "output_type": "execute_result"
    }
   ],
   "source": [
    "fit.summary()"
   ]
  },
  {
   "cell_type": "code",
   "execution_count": 8,
   "id": "creative-religious",
   "metadata": {},
   "outputs": [
    {
     "name": "stderr",
     "output_type": "stream",
     "text": [
      "INFO:cmdstanpy:Processing csv files: /tmp/tmpsbryf0sb/8schools-202103070615-1-fwk5f3py.csv, /tmp/tmpsbryf0sb/8schools-202103070615-2-nwo4slhc.csv, /tmp/tmpsbryf0sb/8schools-202103070615-3-0it5i9jm.csv, /tmp/tmpsbryf0sb/8schools-202103070615-4-bbt_piu0.csv\n",
      "\n",
      "Checking sampler transitions treedepth.\n",
      "Treedepth satisfactory for all transitions.\n",
      "\n",
      "Checking sampler transitions for divergences.\n",
      "No divergent transitions found.\n",
      "\n",
      "Checking E-BFMI - sampler transitions HMC potential energy.\n",
      "E-BFMI satisfactory for all transitions.\n",
      "\n",
      "Effective sample size satisfactory.\n",
      "\n",
      "Split R-hat values satisfactory all parameters.\n",
      "\n",
      "Processing complete, no problems detected.\n"
     ]
    },
    {
     "data": {
      "text/plain": [
       "'Processing csv files: /tmp/tmpsbryf0sb/8schools-202103070615-1-fwk5f3py.csv, /tmp/tmpsbryf0sb/8schools-202103070615-2-nwo4slhc.csv, /tmp/tmpsbryf0sb/8schools-202103070615-3-0it5i9jm.csv, /tmp/tmpsbryf0sb/8schools-202103070615-4-bbt_piu0.csv\\n\\nChecking sampler transitions treedepth.\\nTreedepth satisfactory for all transitions.\\n\\nChecking sampler transitions for divergences.\\nNo divergent transitions found.\\n\\nChecking E-BFMI - sampler transitions HMC potential energy.\\nE-BFMI satisfactory for all transitions.\\n\\nEffective sample size satisfactory.\\n\\nSplit R-hat values satisfactory all parameters.\\n\\nProcessing complete, no problems detected.'"
      ]
     },
     "execution_count": 8,
     "metadata": {},
     "output_type": "execute_result"
    }
   ],
   "source": [
    "fit.diagnose()"
   ]
  }
 ],
 "metadata": {
  "kernelspec": {
   "display_name": "Python 3",
   "language": "python",
   "name": "python3"
  },
  "language_info": {
   "codemirror_mode": {
    "name": "ipython",
    "version": 3
   },
   "file_extension": ".py",
   "mimetype": "text/x-python",
   "name": "python",
   "nbconvert_exporter": "python",
   "pygments_lexer": "ipython3",
   "version": "3.8.5"
  }
 },
 "nbformat": 4,
 "nbformat_minor": 5
}
