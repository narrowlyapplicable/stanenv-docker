{
 "cells": [
  {
   "cell_type": "markdown",
   "id": "important-republic",
   "metadata": {},
   "source": [
    "## CmdStanPyの動作確認"
   ]
  },
  {
   "cell_type": "markdown",
   "id": "precious-paste",
   "metadata": {},
   "source": [
    "### CmdStanPy公式の\"Hello World\""
   ]
  },
  {
   "cell_type": "code",
   "execution_count": 1,
   "id": "crazy-nelson",
   "metadata": {},
   "outputs": [
    {
     "name": "stdout",
     "output_type": "stream",
     "text": [
      "CmdStanModel: name=bernoulli\n",
      "\t stan_file=/root/.cmdstan/cmdstan-2.30.0/examples/bernoulli/bernoulli.stan\n",
      "\t exe_file=/root/.cmdstan/cmdstan-2.30.0/examples/bernoulli/bernoulli\n",
      "\t compiler_options=stanc_options={}, cpp_options={}\n"
     ]
    }
   ],
   "source": [
    "# import packages\n",
    "import os\n",
    "from cmdstanpy import cmdstan_path, CmdStanModel\n",
    "\n",
    "# specify Stan program file\n",
    "bernoulli_stan = os.path.join(cmdstan_path(), 'examples', 'bernoulli', 'bernoulli.stan')\n",
    "\n",
    "# instantiate the model; compiles the Stan program as needed.\n",
    "bernoulli_model = CmdStanModel(stan_file=bernoulli_stan)\n",
    "\n",
    "# inspect model object\n",
    "print(bernoulli_model)"
   ]
  },
  {
   "cell_type": "code",
   "execution_count": 2,
   "id": "living-medline",
   "metadata": {},
   "outputs": [
    {
     "name": "stderr",
     "output_type": "stream",
     "text": [
      "20:28:34 - cmdstanpy - INFO - CmdStan start processing\n"
     ]
    },
    {
     "data": {
      "application/vnd.jupyter.widget-view+json": {
       "model_id": "144ecb5efef44d218ffb8f6c372e6492",
       "version_major": 2,
       "version_minor": 0
      },
      "text/plain": [
       "chain 1 |          | 00:00 Status"
      ]
     },
     "metadata": {},
     "output_type": "display_data"
    },
    {
     "data": {
      "application/vnd.jupyter.widget-view+json": {
       "model_id": "72f11f14dcea4ed882d31577623d55c6",
       "version_major": 2,
       "version_minor": 0
      },
      "text/plain": [
       "chain 2 |          | 00:00 Status"
      ]
     },
     "metadata": {},
     "output_type": "display_data"
    },
    {
     "data": {
      "application/vnd.jupyter.widget-view+json": {
       "model_id": "328d33369d184f5b8c24e0505bc07c26",
       "version_major": 2,
       "version_minor": 0
      },
      "text/plain": [
       "chain 3 |          | 00:00 Status"
      ]
     },
     "metadata": {},
     "output_type": "display_data"
    },
    {
     "data": {
      "application/vnd.jupyter.widget-view+json": {
       "model_id": "4c4ce3af2258490facad035781678db2",
       "version_major": 2,
       "version_minor": 0
      },
      "text/plain": [
       "chain 4 |          | 00:00 Status"
      ]
     },
     "metadata": {},
     "output_type": "display_data"
    },
    {
     "name": "stdout",
     "output_type": "stream",
     "text": [
      "                                                                                                                                                                                                                                                                                                                                "
     ]
    },
    {
     "name": "stderr",
     "output_type": "stream",
     "text": [
      "20:28:35 - cmdstanpy - INFO - CmdStan done processing.\n"
     ]
    },
    {
     "name": "stdout",
     "output_type": "stream",
     "text": [
      "\n",
      "CmdStanMCMC: model=bernoulli chains=4['method=sample', 'algorithm=hmc', 'adapt', 'engaged=1']\n",
      " csv_files:\n",
      "\t/workdir/demo/bernoulli-20220709202834_1.csv\n",
      "\t/workdir/demo/bernoulli-20220709202834_2.csv\n",
      "\t/workdir/demo/bernoulli-20220709202834_3.csv\n",
      "\t/workdir/demo/bernoulli-20220709202834_4.csv\n",
      " output_files:\n",
      "\t/workdir/demo/bernoulli-20220709202834_0-stdout.txt\n",
      "\t/workdir/demo/bernoulli-20220709202834_1-stdout.txt\n",
      "\t/workdir/demo/bernoulli-20220709202834_2-stdout.txt\n",
      "\t/workdir/demo/bernoulli-20220709202834_3-stdout.txt\n"
     ]
    }
   ],
   "source": [
    "# specify data file\n",
    "bernoulli_data = os.path.join(cmdstan_path(), 'examples', 'bernoulli', 'bernoulli.data.json')\n",
    "\n",
    "# fit the model\n",
    "bern_fit = bernoulli_model.sample(data=bernoulli_data, output_dir='.')\n",
    "\n",
    "# printing the object reports sampler commands, output files\n",
    "print(bern_fit)"
   ]
  },
  {
   "cell_type": "code",
   "execution_count": 3,
   "id": "hydraulic-listening",
   "metadata": {},
   "outputs": [
    {
     "data": {
      "text/html": [
       "<div>\n",
       "<style scoped>\n",
       "    .dataframe tbody tr th:only-of-type {\n",
       "        vertical-align: middle;\n",
       "    }\n",
       "\n",
       "    .dataframe tbody tr th {\n",
       "        vertical-align: top;\n",
       "    }\n",
       "\n",
       "    .dataframe thead th {\n",
       "        text-align: right;\n",
       "    }\n",
       "</style>\n",
       "<table border=\"1\" class=\"dataframe\">\n",
       "  <thead>\n",
       "    <tr style=\"text-align: right;\">\n",
       "      <th></th>\n",
       "      <th>Mean</th>\n",
       "      <th>MCSE</th>\n",
       "      <th>StdDev</th>\n",
       "      <th>5%</th>\n",
       "      <th>50%</th>\n",
       "      <th>95%</th>\n",
       "      <th>N_Eff</th>\n",
       "      <th>N_Eff/s</th>\n",
       "      <th>R_hat</th>\n",
       "    </tr>\n",
       "    <tr>\n",
       "      <th>name</th>\n",
       "      <th></th>\n",
       "      <th></th>\n",
       "      <th></th>\n",
       "      <th></th>\n",
       "      <th></th>\n",
       "      <th></th>\n",
       "      <th></th>\n",
       "      <th></th>\n",
       "      <th></th>\n",
       "    </tr>\n",
       "  </thead>\n",
       "  <tbody>\n",
       "    <tr>\n",
       "      <th>lp__</th>\n",
       "      <td>-7.261260</td>\n",
       "      <td>0.019761</td>\n",
       "      <td>0.706144</td>\n",
       "      <td>-8.701150</td>\n",
       "      <td>-6.989320</td>\n",
       "      <td>-6.749720</td>\n",
       "      <td>1276.99</td>\n",
       "      <td>510.386</td>\n",
       "      <td>1.00175</td>\n",
       "    </tr>\n",
       "    <tr>\n",
       "      <th>theta</th>\n",
       "      <td>0.245416</td>\n",
       "      <td>0.003084</td>\n",
       "      <td>0.117830</td>\n",
       "      <td>0.079008</td>\n",
       "      <td>0.232547</td>\n",
       "      <td>0.462923</td>\n",
       "      <td>1459.87</td>\n",
       "      <td>583.480</td>\n",
       "      <td>1.00243</td>\n",
       "    </tr>\n",
       "  </tbody>\n",
       "</table>\n",
       "</div>"
      ],
      "text/plain": [
       "           Mean      MCSE    StdDev        5%       50%       95%    N_Eff  \\\n",
       "name                                                                         \n",
       "lp__  -7.261260  0.019761  0.706144 -8.701150 -6.989320 -6.749720  1276.99   \n",
       "theta  0.245416  0.003084  0.117830  0.079008  0.232547  0.462923  1459.87   \n",
       "\n",
       "       N_Eff/s    R_hat  \n",
       "name                     \n",
       "lp__   510.386  1.00175  \n",
       "theta  583.480  1.00243  "
      ]
     },
     "execution_count": 3,
     "metadata": {},
     "output_type": "execute_result"
    }
   ],
   "source": [
    "bern_fit.summary()"
   ]
  },
  {
   "cell_type": "code",
   "execution_count": 4,
   "id": "explicit-commons",
   "metadata": {},
   "outputs": [
    {
     "name": "stdout",
     "output_type": "stream",
     "text": [
      "Processing csv files: /workdir/demo/bernoulli-20220709202834_1.csv, /workdir/demo/bernoulli-20220709202834_2.csv, /workdir/demo/bernoulli-20220709202834_3.csv, /workdir/demo/bernoulli-20220709202834_4.csv\n",
      "\n",
      "Checking sampler transitions treedepth.\n",
      "Treedepth satisfactory for all transitions.\n",
      "\n",
      "Checking sampler transitions for divergences.\n",
      "No divergent transitions found.\n",
      "\n",
      "Checking E-BFMI - sampler transitions HMC potential energy.\n",
      "E-BFMI satisfactory.\n",
      "\n",
      "Effective sample size satisfactory.\n",
      "\n",
      "Split R-hat values satisfactory all parameters.\n",
      "\n",
      "Processing complete, no problems detected.\n",
      "\n"
     ]
    }
   ],
   "source": [
    "print(bern_fit.diagnose())"
   ]
  },
  {
   "cell_type": "markdown",
   "id": "certain-expert",
   "metadata": {},
   "source": [
    "### 8schools\n",
    "- pystanとの速度比較"
   ]
  },
  {
   "cell_type": "code",
   "execution_count": 5,
   "id": "higher-steel",
   "metadata": {},
   "outputs": [
    {
     "name": "stderr",
     "output_type": "stream",
     "text": [
      "20:28:49 - cmdstanpy - INFO - compiling stan file /workdir/demo/8schools.stan to exe file /workdir/demo/8schools\n",
      "20:29:03 - cmdstanpy - INFO - compiled model executable: /workdir/demo/8schools\n"
     ]
    },
    {
     "name": "stdout",
     "output_type": "stream",
     "text": [
      "CPU times: user 6.57 ms, sys: 1.86 ms, total: 8.43 ms\n",
      "Wall time: 14.3 s\n"
     ]
    }
   ],
   "source": [
    "%%time\n",
    "model = CmdStanModel(stan_file=\"8schools.stan\")"
   ]
  },
  {
   "cell_type": "markdown",
   "id": "congressional-quest",
   "metadata": {},
   "source": [
    "- 15s程度でコンパイルできた。\n",
    "- pystan2では1min超を要したから、確かにコンパイルはかなり高速と言える。\n",
    "  - コンパイルしたモデルは保存されており、2回目以降は数秒で読み込める。(`8schools`と`8schools.hpp`を削除すれば初回同様となる)"
   ]
  },
  {
   "cell_type": "code",
   "execution_count": 6,
   "id": "awful-chain",
   "metadata": {},
   "outputs": [
    {
     "name": "stderr",
     "output_type": "stream",
     "text": [
      "20:29:05 - cmdstanpy - INFO - CmdStan start processing\n"
     ]
    },
    {
     "data": {
      "application/vnd.jupyter.widget-view+json": {
       "model_id": "a3cfabcbde50482dac733174275422e2",
       "version_major": 2,
       "version_minor": 0
      },
      "text/plain": [
       "chain 1 |          | 00:00 Status"
      ]
     },
     "metadata": {},
     "output_type": "display_data"
    },
    {
     "data": {
      "application/vnd.jupyter.widget-view+json": {
       "model_id": "59e7556094d94625a62cfbf83212997f",
       "version_major": 2,
       "version_minor": 0
      },
      "text/plain": [
       "chain 2 |          | 00:00 Status"
      ]
     },
     "metadata": {},
     "output_type": "display_data"
    },
    {
     "data": {
      "application/vnd.jupyter.widget-view+json": {
       "model_id": "427f7a75a8fe467288f04b6051efa139",
       "version_major": 2,
       "version_minor": 0
      },
      "text/plain": [
       "chain 3 |          | 00:00 Status"
      ]
     },
     "metadata": {},
     "output_type": "display_data"
    },
    {
     "data": {
      "application/vnd.jupyter.widget-view+json": {
       "model_id": "d0c15627899f41c4a6efb8b3edabe4a2",
       "version_major": 2,
       "version_minor": 0
      },
      "text/plain": [
       "chain 4 |          | 00:00 Status"
      ]
     },
     "metadata": {},
     "output_type": "display_data"
    },
    {
     "name": "stdout",
     "output_type": "stream",
     "text": [
      "                                                                                                                                                                                                                                                                                                                                "
     ]
    },
    {
     "name": "stderr",
     "output_type": "stream",
     "text": [
      "20:29:06 - cmdstanpy - INFO - CmdStan done processing.\n",
      "20:29:06 - cmdstanpy - WARNING - Some chains may have failed to converge.\n",
      "\tChain 1 had 5 divergent transitions (0.5%)\n",
      "\tUse function \"diagnose()\" to see further information.\n"
     ]
    },
    {
     "name": "stdout",
     "output_type": "stream",
     "text": [
      "\n",
      "CPU times: user 190 ms, sys: 26.7 ms, total: 217 ms\n",
      "Wall time: 427 ms\n"
     ]
    }
   ],
   "source": [
    "%%time\n",
    "data = \"8schools.data.json\"\n",
    "fit = model.sample(data=data, iter_sampling=1000, iter_warmup=500)"
   ]
  },
  {
   "cell_type": "markdown",
   "id": "jewish-editing",
   "metadata": {},
   "source": [
    "- 200ms強を要しており、微差ではあるがPyStan2（163ms）よりやや遅い？"
   ]
  },
  {
   "cell_type": "code",
   "execution_count": 7,
   "id": "going-iceland",
   "metadata": {},
   "outputs": [
    {
     "data": {
      "text/html": [
       "<div>\n",
       "<style scoped>\n",
       "    .dataframe tbody tr th:only-of-type {\n",
       "        vertical-align: middle;\n",
       "    }\n",
       "\n",
       "    .dataframe tbody tr th {\n",
       "        vertical-align: top;\n",
       "    }\n",
       "\n",
       "    .dataframe thead th {\n",
       "        text-align: right;\n",
       "    }\n",
       "</style>\n",
       "<table border=\"1\" class=\"dataframe\">\n",
       "  <thead>\n",
       "    <tr style=\"text-align: right;\">\n",
       "      <th></th>\n",
       "      <th>Mean</th>\n",
       "      <th>MCSE</th>\n",
       "      <th>StdDev</th>\n",
       "      <th>5%</th>\n",
       "      <th>50%</th>\n",
       "      <th>95%</th>\n",
       "      <th>N_Eff</th>\n",
       "      <th>N_Eff/s</th>\n",
       "      <th>R_hat</th>\n",
       "    </tr>\n",
       "    <tr>\n",
       "      <th>name</th>\n",
       "      <th></th>\n",
       "      <th></th>\n",
       "      <th></th>\n",
       "      <th></th>\n",
       "      <th></th>\n",
       "      <th></th>\n",
       "      <th></th>\n",
       "      <th></th>\n",
       "      <th></th>\n",
       "    </tr>\n",
       "  </thead>\n",
       "  <tbody>\n",
       "    <tr>\n",
       "      <th>lp__</th>\n",
       "      <td>-4.923760</td>\n",
       "      <td>0.072446</td>\n",
       "      <td>2.604700</td>\n",
       "      <td>-9.697300</td>\n",
       "      <td>-4.669300</td>\n",
       "      <td>-1.11580</td>\n",
       "      <td>1292.670</td>\n",
       "      <td>5477.43</td>\n",
       "      <td>1.001900</td>\n",
       "    </tr>\n",
       "    <tr>\n",
       "      <th>mu</th>\n",
       "      <td>8.111190</td>\n",
       "      <td>0.188841</td>\n",
       "      <td>5.399530</td>\n",
       "      <td>-0.175280</td>\n",
       "      <td>7.945290</td>\n",
       "      <td>17.01660</td>\n",
       "      <td>817.559</td>\n",
       "      <td>3464.23</td>\n",
       "      <td>1.000230</td>\n",
       "    </tr>\n",
       "    <tr>\n",
       "      <th>tau</th>\n",
       "      <td>6.566660</td>\n",
       "      <td>0.162449</td>\n",
       "      <td>5.385040</td>\n",
       "      <td>0.646541</td>\n",
       "      <td>5.283470</td>\n",
       "      <td>17.13370</td>\n",
       "      <td>1098.860</td>\n",
       "      <td>4656.19</td>\n",
       "      <td>1.003110</td>\n",
       "    </tr>\n",
       "    <tr>\n",
       "      <th>eta[1]</th>\n",
       "      <td>0.404048</td>\n",
       "      <td>0.015845</td>\n",
       "      <td>0.933542</td>\n",
       "      <td>-1.161070</td>\n",
       "      <td>0.407255</td>\n",
       "      <td>1.92579</td>\n",
       "      <td>3471.060</td>\n",
       "      <td>14707.90</td>\n",
       "      <td>1.000520</td>\n",
       "    </tr>\n",
       "    <tr>\n",
       "      <th>eta[2]</th>\n",
       "      <td>-0.025077</td>\n",
       "      <td>0.015460</td>\n",
       "      <td>0.922999</td>\n",
       "      <td>-1.536050</td>\n",
       "      <td>-0.031319</td>\n",
       "      <td>1.51418</td>\n",
       "      <td>3564.280</td>\n",
       "      <td>15102.90</td>\n",
       "      <td>1.000190</td>\n",
       "    </tr>\n",
       "    <tr>\n",
       "      <th>eta[3]</th>\n",
       "      <td>-0.198637</td>\n",
       "      <td>0.014264</td>\n",
       "      <td>0.917975</td>\n",
       "      <td>-1.711680</td>\n",
       "      <td>-0.212369</td>\n",
       "      <td>1.35024</td>\n",
       "      <td>4141.770</td>\n",
       "      <td>17549.90</td>\n",
       "      <td>0.999530</td>\n",
       "    </tr>\n",
       "    <tr>\n",
       "      <th>eta[4]</th>\n",
       "      <td>-0.058792</td>\n",
       "      <td>0.015147</td>\n",
       "      <td>0.905125</td>\n",
       "      <td>-1.534910</td>\n",
       "      <td>-0.082534</td>\n",
       "      <td>1.43891</td>\n",
       "      <td>3571.040</td>\n",
       "      <td>15131.50</td>\n",
       "      <td>0.999681</td>\n",
       "    </tr>\n",
       "    <tr>\n",
       "      <th>eta[5]</th>\n",
       "      <td>-0.354350</td>\n",
       "      <td>0.017371</td>\n",
       "      <td>0.881159</td>\n",
       "      <td>-1.734490</td>\n",
       "      <td>-0.372865</td>\n",
       "      <td>1.11117</td>\n",
       "      <td>2573.250</td>\n",
       "      <td>10903.60</td>\n",
       "      <td>1.000020</td>\n",
       "    </tr>\n",
       "    <tr>\n",
       "      <th>eta[6]</th>\n",
       "      <td>-0.224962</td>\n",
       "      <td>0.014916</td>\n",
       "      <td>0.900132</td>\n",
       "      <td>-1.713310</td>\n",
       "      <td>-0.255550</td>\n",
       "      <td>1.31839</td>\n",
       "      <td>3641.570</td>\n",
       "      <td>15430.40</td>\n",
       "      <td>0.999872</td>\n",
       "    </tr>\n",
       "    <tr>\n",
       "      <th>eta[7]</th>\n",
       "      <td>0.335047</td>\n",
       "      <td>0.014381</td>\n",
       "      <td>0.883725</td>\n",
       "      <td>-1.134620</td>\n",
       "      <td>0.343099</td>\n",
       "      <td>1.77385</td>\n",
       "      <td>3775.980</td>\n",
       "      <td>15999.90</td>\n",
       "      <td>0.999689</td>\n",
       "    </tr>\n",
       "    <tr>\n",
       "      <th>eta[8]</th>\n",
       "      <td>0.051847</td>\n",
       "      <td>0.016005</td>\n",
       "      <td>0.957424</td>\n",
       "      <td>-1.522300</td>\n",
       "      <td>0.051446</td>\n",
       "      <td>1.61890</td>\n",
       "      <td>3578.390</td>\n",
       "      <td>15162.70</td>\n",
       "      <td>0.999529</td>\n",
       "    </tr>\n",
       "    <tr>\n",
       "      <th>theta[1]</th>\n",
       "      <td>11.646000</td>\n",
       "      <td>0.211644</td>\n",
       "      <td>8.501300</td>\n",
       "      <td>0.115950</td>\n",
       "      <td>10.458900</td>\n",
       "      <td>27.19840</td>\n",
       "      <td>1613.460</td>\n",
       "      <td>6836.68</td>\n",
       "      <td>1.001730</td>\n",
       "    </tr>\n",
       "    <tr>\n",
       "      <th>theta[2]</th>\n",
       "      <td>7.805980</td>\n",
       "      <td>0.098372</td>\n",
       "      <td>6.498390</td>\n",
       "      <td>-2.659490</td>\n",
       "      <td>7.834130</td>\n",
       "      <td>18.36930</td>\n",
       "      <td>4363.810</td>\n",
       "      <td>18490.70</td>\n",
       "      <td>1.000050</td>\n",
       "    </tr>\n",
       "    <tr>\n",
       "      <th>theta[3]</th>\n",
       "      <td>6.419630</td>\n",
       "      <td>0.149918</td>\n",
       "      <td>7.651530</td>\n",
       "      <td>-6.619770</td>\n",
       "      <td>6.805500</td>\n",
       "      <td>18.11360</td>\n",
       "      <td>2604.900</td>\n",
       "      <td>11037.70</td>\n",
       "      <td>0.999904</td>\n",
       "    </tr>\n",
       "    <tr>\n",
       "      <th>theta[4]</th>\n",
       "      <td>7.664430</td>\n",
       "      <td>0.102519</td>\n",
       "      <td>6.581550</td>\n",
       "      <td>-3.153210</td>\n",
       "      <td>7.586330</td>\n",
       "      <td>18.63240</td>\n",
       "      <td>4121.390</td>\n",
       "      <td>17463.50</td>\n",
       "      <td>0.999628</td>\n",
       "    </tr>\n",
       "    <tr>\n",
       "      <th>theta[5]</th>\n",
       "      <td>5.204380</td>\n",
       "      <td>0.103174</td>\n",
       "      <td>6.216040</td>\n",
       "      <td>-5.571500</td>\n",
       "      <td>5.698880</td>\n",
       "      <td>14.76360</td>\n",
       "      <td>3629.800</td>\n",
       "      <td>15380.50</td>\n",
       "      <td>1.000830</td>\n",
       "    </tr>\n",
       "    <tr>\n",
       "      <th>theta[6]</th>\n",
       "      <td>6.283170</td>\n",
       "      <td>0.109287</td>\n",
       "      <td>6.775660</td>\n",
       "      <td>-5.092200</td>\n",
       "      <td>6.642510</td>\n",
       "      <td>16.83520</td>\n",
       "      <td>3843.880</td>\n",
       "      <td>16287.60</td>\n",
       "      <td>0.999728</td>\n",
       "    </tr>\n",
       "    <tr>\n",
       "      <th>theta[7]</th>\n",
       "      <td>10.740900</td>\n",
       "      <td>0.145853</td>\n",
       "      <td>6.870720</td>\n",
       "      <td>0.624243</td>\n",
       "      <td>10.140400</td>\n",
       "      <td>22.94310</td>\n",
       "      <td>2219.080</td>\n",
       "      <td>9402.88</td>\n",
       "      <td>0.999670</td>\n",
       "    </tr>\n",
       "    <tr>\n",
       "      <th>theta[8]</th>\n",
       "      <td>8.542970</td>\n",
       "      <td>0.145918</td>\n",
       "      <td>7.916230</td>\n",
       "      <td>-3.659670</td>\n",
       "      <td>8.290290</td>\n",
       "      <td>22.16810</td>\n",
       "      <td>2943.210</td>\n",
       "      <td>12471.20</td>\n",
       "      <td>0.999366</td>\n",
       "    </tr>\n",
       "  </tbody>\n",
       "</table>\n",
       "</div>"
      ],
      "text/plain": [
       "               Mean      MCSE    StdDev        5%        50%       95%  \\\n",
       "name                                                                     \n",
       "lp__      -4.923760  0.072446  2.604700 -9.697300  -4.669300  -1.11580   \n",
       "mu         8.111190  0.188841  5.399530 -0.175280   7.945290  17.01660   \n",
       "tau        6.566660  0.162449  5.385040  0.646541   5.283470  17.13370   \n",
       "eta[1]     0.404048  0.015845  0.933542 -1.161070   0.407255   1.92579   \n",
       "eta[2]    -0.025077  0.015460  0.922999 -1.536050  -0.031319   1.51418   \n",
       "eta[3]    -0.198637  0.014264  0.917975 -1.711680  -0.212369   1.35024   \n",
       "eta[4]    -0.058792  0.015147  0.905125 -1.534910  -0.082534   1.43891   \n",
       "eta[5]    -0.354350  0.017371  0.881159 -1.734490  -0.372865   1.11117   \n",
       "eta[6]    -0.224962  0.014916  0.900132 -1.713310  -0.255550   1.31839   \n",
       "eta[7]     0.335047  0.014381  0.883725 -1.134620   0.343099   1.77385   \n",
       "eta[8]     0.051847  0.016005  0.957424 -1.522300   0.051446   1.61890   \n",
       "theta[1]  11.646000  0.211644  8.501300  0.115950  10.458900  27.19840   \n",
       "theta[2]   7.805980  0.098372  6.498390 -2.659490   7.834130  18.36930   \n",
       "theta[3]   6.419630  0.149918  7.651530 -6.619770   6.805500  18.11360   \n",
       "theta[4]   7.664430  0.102519  6.581550 -3.153210   7.586330  18.63240   \n",
       "theta[5]   5.204380  0.103174  6.216040 -5.571500   5.698880  14.76360   \n",
       "theta[6]   6.283170  0.109287  6.775660 -5.092200   6.642510  16.83520   \n",
       "theta[7]  10.740900  0.145853  6.870720  0.624243  10.140400  22.94310   \n",
       "theta[8]   8.542970  0.145918  7.916230 -3.659670   8.290290  22.16810   \n",
       "\n",
       "             N_Eff   N_Eff/s     R_hat  \n",
       "name                                    \n",
       "lp__      1292.670   5477.43  1.001900  \n",
       "mu         817.559   3464.23  1.000230  \n",
       "tau       1098.860   4656.19  1.003110  \n",
       "eta[1]    3471.060  14707.90  1.000520  \n",
       "eta[2]    3564.280  15102.90  1.000190  \n",
       "eta[3]    4141.770  17549.90  0.999530  \n",
       "eta[4]    3571.040  15131.50  0.999681  \n",
       "eta[5]    2573.250  10903.60  1.000020  \n",
       "eta[6]    3641.570  15430.40  0.999872  \n",
       "eta[7]    3775.980  15999.90  0.999689  \n",
       "eta[8]    3578.390  15162.70  0.999529  \n",
       "theta[1]  1613.460   6836.68  1.001730  \n",
       "theta[2]  4363.810  18490.70  1.000050  \n",
       "theta[3]  2604.900  11037.70  0.999904  \n",
       "theta[4]  4121.390  17463.50  0.999628  \n",
       "theta[5]  3629.800  15380.50  1.000830  \n",
       "theta[6]  3843.880  16287.60  0.999728  \n",
       "theta[7]  2219.080   9402.88  0.999670  \n",
       "theta[8]  2943.210  12471.20  0.999366  "
      ]
     },
     "execution_count": 7,
     "metadata": {},
     "output_type": "execute_result"
    }
   ],
   "source": [
    "fit.summary()"
   ]
  },
  {
   "cell_type": "code",
   "execution_count": 8,
   "id": "creative-religious",
   "metadata": {},
   "outputs": [
    {
     "name": "stdout",
     "output_type": "stream",
     "text": [
      "Processing csv files: /tmp/tmpdgu8jduq/8schoolsyvoajs_d/8schools-20220709202906_1.csv, /tmp/tmpdgu8jduq/8schoolsyvoajs_d/8schools-20220709202906_2.csv, /tmp/tmpdgu8jduq/8schoolsyvoajs_d/8schools-20220709202906_3.csv, /tmp/tmpdgu8jduq/8schoolsyvoajs_d/8schools-20220709202906_4.csv\n",
      "\n",
      "Checking sampler transitions treedepth.\n",
      "Treedepth satisfactory for all transitions.\n",
      "\n",
      "Checking sampler transitions for divergences.\n",
      "5 of 4000 (0.12%) transitions ended with a divergence.\n",
      "These divergent transitions indicate that HMC is not fully able to explore the posterior distribution.\n",
      "Try increasing adapt delta closer to 1.\n",
      "If this doesn't remove all divergences, try to reparameterize the model.\n",
      "\n",
      "Checking E-BFMI - sampler transitions HMC potential energy.\n",
      "E-BFMI satisfactory.\n",
      "\n",
      "Effective sample size satisfactory.\n",
      "\n",
      "Split R-hat values satisfactory all parameters.\n",
      "\n",
      "Processing complete.\n",
      "\n"
     ]
    }
   ],
   "source": [
    "print(fit.diagnose())"
   ]
  },
  {
   "cell_type": "code",
   "execution_count": null,
   "id": "780c263d-2fa8-45c0-9aaf-942af9bff2e1",
   "metadata": {},
   "outputs": [],
   "source": []
  }
 ],
 "metadata": {
  "kernelspec": {
   "display_name": "Python 3 (ipykernel)",
   "language": "python",
   "name": "python3"
  },
  "language_info": {
   "codemirror_mode": {
    "name": "ipython",
    "version": 3
   },
   "file_extension": ".py",
   "mimetype": "text/x-python",
   "name": "python",
   "nbconvert_exporter": "python",
   "pygments_lexer": "ipython3",
   "version": "3.10.2"
  }
 },
 "nbformat": 4,
 "nbformat_minor": 5
}
