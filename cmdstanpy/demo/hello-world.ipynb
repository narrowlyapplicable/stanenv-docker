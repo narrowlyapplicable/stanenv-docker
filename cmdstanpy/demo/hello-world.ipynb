{
 "cells": [
  {
   "cell_type": "markdown",
   "id": "important-republic",
   "metadata": {},
   "source": [
    "## CmdStanPyの動作確認"
   ]
  },
  {
   "cell_type": "markdown",
   "id": "precious-paste",
   "metadata": {},
   "source": [
    "### CmdStanPy公式の\"Hello World\""
   ]
  },
  {
   "cell_type": "code",
   "execution_count": 1,
   "id": "crazy-nelson",
   "metadata": {},
   "outputs": [
    {
     "name": "stderr",
     "output_type": "stream",
     "text": [
      "13:43:34 - cmdstanpy - INFO - compiling stan file /opt/conda/bin/cmdstan/examples/bernoulli/bernoulli.stan to exe file /opt/conda/bin/cmdstan/examples/bernoulli/bernoulli\n",
      "13:43:54 - cmdstanpy - INFO - compiled model executable: /opt/conda/bin/cmdstan/examples/bernoulli/bernoulli\n"
     ]
    },
    {
     "name": "stdout",
     "output_type": "stream",
     "text": [
      "CmdStanModel: name=bernoulli\n",
      "\t stan_file=/opt/conda/bin/cmdstan/examples/bernoulli/bernoulli.stan\n",
      "\t exe_file=/opt/conda/bin/cmdstan/examples/bernoulli/bernoulli\n",
      "\t compiler_options=stanc_options={}, cpp_options={}\n"
     ]
    }
   ],
   "source": [
    "# import packages\n",
    "import os\n",
    "from cmdstanpy import cmdstan_path, CmdStanModel\n",
    "\n",
    "# specify Stan program file\n",
    "bernoulli_stan = os.path.join(cmdstan_path(), 'examples', 'bernoulli', 'bernoulli.stan')\n",
    "\n",
    "# instantiate the model; compiles the Stan program as needed.\n",
    "bernoulli_model = CmdStanModel(stan_file=bernoulli_stan)\n",
    "\n",
    "# inspect model object\n",
    "print(bernoulli_model)"
   ]
  },
  {
   "cell_type": "code",
   "execution_count": 2,
   "id": "living-medline",
   "metadata": {},
   "outputs": [
    {
     "name": "stderr",
     "output_type": "stream",
     "text": [
      "13:44:04 - cmdstanpy - INFO - CmdStan start processing\n"
     ]
    },
    {
     "data": {
      "application/vnd.jupyter.widget-view+json": {
       "model_id": "35c45f3bda384d1a897271b491d42a51",
       "version_major": 2,
       "version_minor": 0
      },
      "text/plain": [
       "chain 1 |          | 00:00 Status"
      ]
     },
     "metadata": {},
     "output_type": "display_data"
    },
    {
     "data": {
      "application/vnd.jupyter.widget-view+json": {
       "model_id": "3eddfcad61ad4efcb056a26f9a8ce0c1",
       "version_major": 2,
       "version_minor": 0
      },
      "text/plain": [
       "chain 2 |          | 00:00 Status"
      ]
     },
     "metadata": {},
     "output_type": "display_data"
    },
    {
     "data": {
      "application/vnd.jupyter.widget-view+json": {
       "model_id": "c3440181fd3e481681fcf0a473a32ced",
       "version_major": 2,
       "version_minor": 0
      },
      "text/plain": [
       "chain 3 |          | 00:00 Status"
      ]
     },
     "metadata": {},
     "output_type": "display_data"
    },
    {
     "data": {
      "application/vnd.jupyter.widget-view+json": {
       "model_id": "87c3a30b80204abe9ec202efba556efe",
       "version_major": 2,
       "version_minor": 0
      },
      "text/plain": [
       "chain 4 |          | 00:00 Status"
      ]
     },
     "metadata": {},
     "output_type": "display_data"
    },
    {
     "name": "stdout",
     "output_type": "stream",
     "text": [
      "                                                                                                                                                                                                                                                                                                                                "
     ]
    },
    {
     "name": "stderr",
     "output_type": "stream",
     "text": [
      "13:44:05 - cmdstanpy - INFO - CmdStan done processing.\n"
     ]
    },
    {
     "name": "stdout",
     "output_type": "stream",
     "text": [
      "\n",
      "CmdStanMCMC: model=bernoulli chains=4['method=sample', 'algorithm=hmc', 'adapt', 'engaged=1']\n",
      " csv_files:\n",
      "\t/workdir/demo/bernoulli-20220713134404_1.csv\n",
      "\t/workdir/demo/bernoulli-20220713134404_2.csv\n",
      "\t/workdir/demo/bernoulli-20220713134404_3.csv\n",
      "\t/workdir/demo/bernoulli-20220713134404_4.csv\n",
      " output_files:\n",
      "\t/workdir/demo/bernoulli-20220713134404_0-stdout.txt\n",
      "\t/workdir/demo/bernoulli-20220713134404_1-stdout.txt\n",
      "\t/workdir/demo/bernoulli-20220713134404_2-stdout.txt\n",
      "\t/workdir/demo/bernoulli-20220713134404_3-stdout.txt\n"
     ]
    }
   ],
   "source": [
    "# specify data file\n",
    "bernoulli_data = os.path.join(cmdstan_path(), 'examples', 'bernoulli', 'bernoulli.data.json')\n",
    "\n",
    "# fit the model\n",
    "bern_fit = bernoulli_model.sample(data=bernoulli_data, output_dir='.')\n",
    "\n",
    "# printing the object reports sampler commands, output files\n",
    "print(bern_fit)"
   ]
  },
  {
   "cell_type": "code",
   "execution_count": 3,
   "id": "hydraulic-listening",
   "metadata": {},
   "outputs": [
    {
     "data": {
      "text/html": [
       "<div>\n",
       "<style scoped>\n",
       "    .dataframe tbody tr th:only-of-type {\n",
       "        vertical-align: middle;\n",
       "    }\n",
       "\n",
       "    .dataframe tbody tr th {\n",
       "        vertical-align: top;\n",
       "    }\n",
       "\n",
       "    .dataframe thead th {\n",
       "        text-align: right;\n",
       "    }\n",
       "</style>\n",
       "<table border=\"1\" class=\"dataframe\">\n",
       "  <thead>\n",
       "    <tr style=\"text-align: right;\">\n",
       "      <th></th>\n",
       "      <th>Mean</th>\n",
       "      <th>MCSE</th>\n",
       "      <th>StdDev</th>\n",
       "      <th>5%</th>\n",
       "      <th>50%</th>\n",
       "      <th>95%</th>\n",
       "      <th>N_Eff</th>\n",
       "      <th>N_Eff/s</th>\n",
       "      <th>R_hat</th>\n",
       "    </tr>\n",
       "    <tr>\n",
       "      <th>name</th>\n",
       "      <th></th>\n",
       "      <th></th>\n",
       "      <th></th>\n",
       "      <th></th>\n",
       "      <th></th>\n",
       "      <th></th>\n",
       "      <th></th>\n",
       "      <th></th>\n",
       "      <th></th>\n",
       "    </tr>\n",
       "  </thead>\n",
       "  <tbody>\n",
       "    <tr>\n",
       "      <th>lp__</th>\n",
       "      <td>-7.303670</td>\n",
       "      <td>0.025262</td>\n",
       "      <td>0.789873</td>\n",
       "      <td>-8.914740</td>\n",
       "      <td>-7.003890</td>\n",
       "      <td>-6.749820</td>\n",
       "      <td>977.662</td>\n",
       "      <td>432.402</td>\n",
       "      <td>1.00005</td>\n",
       "    </tr>\n",
       "    <tr>\n",
       "      <th>theta</th>\n",
       "      <td>0.249902</td>\n",
       "      <td>0.003312</td>\n",
       "      <td>0.121379</td>\n",
       "      <td>0.075015</td>\n",
       "      <td>0.235526</td>\n",
       "      <td>0.465092</td>\n",
       "      <td>1343.200</td>\n",
       "      <td>594.071</td>\n",
       "      <td>1.00166</td>\n",
       "    </tr>\n",
       "  </tbody>\n",
       "</table>\n",
       "</div>"
      ],
      "text/plain": [
       "           Mean      MCSE    StdDev        5%       50%       95%     N_Eff  \\\n",
       "name                                                                          \n",
       "lp__  -7.303670  0.025262  0.789873 -8.914740 -7.003890 -6.749820   977.662   \n",
       "theta  0.249902  0.003312  0.121379  0.075015  0.235526  0.465092  1343.200   \n",
       "\n",
       "       N_Eff/s    R_hat  \n",
       "name                     \n",
       "lp__   432.402  1.00005  \n",
       "theta  594.071  1.00166  "
      ]
     },
     "execution_count": 3,
     "metadata": {},
     "output_type": "execute_result"
    }
   ],
   "source": [
    "bern_fit.summary()"
   ]
  },
  {
   "cell_type": "code",
   "execution_count": 4,
   "id": "explicit-commons",
   "metadata": {},
   "outputs": [
    {
     "name": "stdout",
     "output_type": "stream",
     "text": [
      "Processing csv files: /workdir/demo/bernoulli-20220713134404_1.csv, /workdir/demo/bernoulli-20220713134404_2.csv, /workdir/demo/bernoulli-20220713134404_3.csv, /workdir/demo/bernoulli-20220713134404_4.csv\n",
      "\n",
      "Checking sampler transitions treedepth.\n",
      "Treedepth satisfactory for all transitions.\n",
      "\n",
      "Checking sampler transitions for divergences.\n",
      "No divergent transitions found.\n",
      "\n",
      "Checking E-BFMI - sampler transitions HMC potential energy.\n",
      "E-BFMI satisfactory.\n",
      "\n",
      "Effective sample size satisfactory.\n",
      "\n",
      "Split R-hat values satisfactory all parameters.\n",
      "\n",
      "Processing complete, no problems detected.\n",
      "\n"
     ]
    }
   ],
   "source": [
    "print(bern_fit.diagnose())"
   ]
  },
  {
   "cell_type": "markdown",
   "id": "certain-expert",
   "metadata": {},
   "source": [
    "### 8schools\n",
    "- pystanとの速度比較"
   ]
  },
  {
   "cell_type": "code",
   "execution_count": 5,
   "id": "higher-steel",
   "metadata": {},
   "outputs": [
    {
     "name": "stderr",
     "output_type": "stream",
     "text": [
      "13:44:08 - cmdstanpy - INFO - compiling stan file /workdir/demo/8schools.stan to exe file /workdir/demo/8schools\n",
      "13:44:34 - cmdstanpy - INFO - compiled model executable: /workdir/demo/8schools\n"
     ]
    },
    {
     "name": "stdout",
     "output_type": "stream",
     "text": [
      "CPU times: user 4.26 ms, sys: 5.17 ms, total: 9.43 ms\n",
      "Wall time: 25.7 s\n"
     ]
    }
   ],
   "source": [
    "%%time\n",
    "model = CmdStanModel(stan_file=\"8schools.stan\")"
   ]
  },
  {
   "cell_type": "markdown",
   "id": "congressional-quest",
   "metadata": {},
   "source": [
    "- 15s程度でコンパイルできた(が、condaによるセットアップに変更後はやや遅くなった？)。\n",
    "- pystan2では1min超を要したから、確かにコンパイルはかなり高速と言える。\n",
    "  - コンパイルしたモデルは保存されており、2回目以降は数秒で読み込める。(`8schools`と`8schools.hpp`を削除すれば初回同様となる)"
   ]
  },
  {
   "cell_type": "code",
   "execution_count": 6,
   "id": "awful-chain",
   "metadata": {},
   "outputs": [
    {
     "name": "stderr",
     "output_type": "stream",
     "text": [
      "13:44:34 - cmdstanpy - INFO - CmdStan start processing\n"
     ]
    },
    {
     "data": {
      "application/vnd.jupyter.widget-view+json": {
       "model_id": "ef34b4f8b4a34390977ee3d97eb4160d",
       "version_major": 2,
       "version_minor": 0
      },
      "text/plain": [
       "chain 1 |          | 00:00 Status"
      ]
     },
     "metadata": {},
     "output_type": "display_data"
    },
    {
     "data": {
      "application/vnd.jupyter.widget-view+json": {
       "model_id": "791ef565e5a74ffdb6ea04d66e83edbd",
       "version_major": 2,
       "version_minor": 0
      },
      "text/plain": [
       "chain 2 |          | 00:00 Status"
      ]
     },
     "metadata": {},
     "output_type": "display_data"
    },
    {
     "data": {
      "application/vnd.jupyter.widget-view+json": {
       "model_id": "67cd64ca1f8e4c7ea202bfbd25ad4706",
       "version_major": 2,
       "version_minor": 0
      },
      "text/plain": [
       "chain 3 |          | 00:00 Status"
      ]
     },
     "metadata": {},
     "output_type": "display_data"
    },
    {
     "data": {
      "application/vnd.jupyter.widget-view+json": {
       "model_id": "a037924fcd3940daa0732c85149b420d",
       "version_major": 2,
       "version_minor": 0
      },
      "text/plain": [
       "chain 4 |          | 00:00 Status"
      ]
     },
     "metadata": {},
     "output_type": "display_data"
    },
    {
     "name": "stdout",
     "output_type": "stream",
     "text": [
      "                                                                                                                                                                                                                                                                                                                                "
     ]
    },
    {
     "name": "stderr",
     "output_type": "stream",
     "text": [
      "13:44:34 - cmdstanpy - INFO - CmdStan done processing.\n",
      "13:44:34 - cmdstanpy - WARNING - Some chains may have failed to converge.\n",
      "\tChain 2 had 1 divergent transitions (0.1%)\n",
      "\tUse function \"diagnose()\" to see further information.\n"
     ]
    },
    {
     "name": "stdout",
     "output_type": "stream",
     "text": [
      "\n",
      "CPU times: user 161 ms, sys: 32.7 ms, total: 194 ms\n",
      "Wall time: 416 ms\n"
     ]
    }
   ],
   "source": [
    "%%time\n",
    "data = \"8schools.data.json\"\n",
    "fit = model.sample(data=data, iter_sampling=1000, iter_warmup=500)"
   ]
  },
  {
   "cell_type": "markdown",
   "id": "jewish-editing",
   "metadata": {},
   "source": [
    "- 200ms強を要しており、微差ではあるがPyStan2（163ms）よりやや遅い？"
   ]
  },
  {
   "cell_type": "code",
   "execution_count": 7,
   "id": "going-iceland",
   "metadata": {},
   "outputs": [
    {
     "data": {
      "text/html": [
       "<div>\n",
       "<style scoped>\n",
       "    .dataframe tbody tr th:only-of-type {\n",
       "        vertical-align: middle;\n",
       "    }\n",
       "\n",
       "    .dataframe tbody tr th {\n",
       "        vertical-align: top;\n",
       "    }\n",
       "\n",
       "    .dataframe thead th {\n",
       "        text-align: right;\n",
       "    }\n",
       "</style>\n",
       "<table border=\"1\" class=\"dataframe\">\n",
       "  <thead>\n",
       "    <tr style=\"text-align: right;\">\n",
       "      <th></th>\n",
       "      <th>Mean</th>\n",
       "      <th>MCSE</th>\n",
       "      <th>StdDev</th>\n",
       "      <th>5%</th>\n",
       "      <th>50%</th>\n",
       "      <th>95%</th>\n",
       "      <th>N_Eff</th>\n",
       "      <th>N_Eff/s</th>\n",
       "      <th>R_hat</th>\n",
       "    </tr>\n",
       "    <tr>\n",
       "      <th>name</th>\n",
       "      <th></th>\n",
       "      <th></th>\n",
       "      <th></th>\n",
       "      <th></th>\n",
       "      <th></th>\n",
       "      <th></th>\n",
       "      <th></th>\n",
       "      <th></th>\n",
       "      <th></th>\n",
       "    </tr>\n",
       "  </thead>\n",
       "  <tbody>\n",
       "    <tr>\n",
       "      <th>lp__</th>\n",
       "      <td>-4.860470</td>\n",
       "      <td>0.071753</td>\n",
       "      <td>2.548230</td>\n",
       "      <td>-9.481420</td>\n",
       "      <td>-4.643160</td>\n",
       "      <td>-1.06800</td>\n",
       "      <td>1261.24</td>\n",
       "      <td>4121.70</td>\n",
       "      <td>1.000590</td>\n",
       "    </tr>\n",
       "    <tr>\n",
       "      <th>mu</th>\n",
       "      <td>7.882610</td>\n",
       "      <td>0.110283</td>\n",
       "      <td>5.004830</td>\n",
       "      <td>-0.185577</td>\n",
       "      <td>7.839250</td>\n",
       "      <td>16.04390</td>\n",
       "      <td>2059.51</td>\n",
       "      <td>6730.44</td>\n",
       "      <td>1.000490</td>\n",
       "    </tr>\n",
       "    <tr>\n",
       "      <th>tau</th>\n",
       "      <td>6.377010</td>\n",
       "      <td>0.124605</td>\n",
       "      <td>5.202310</td>\n",
       "      <td>0.550699</td>\n",
       "      <td>5.165270</td>\n",
       "      <td>16.64970</td>\n",
       "      <td>1743.09</td>\n",
       "      <td>5696.39</td>\n",
       "      <td>1.001210</td>\n",
       "    </tr>\n",
       "    <tr>\n",
       "      <th>eta[1]</th>\n",
       "      <td>0.388874</td>\n",
       "      <td>0.014757</td>\n",
       "      <td>0.934857</td>\n",
       "      <td>-1.168660</td>\n",
       "      <td>0.406352</td>\n",
       "      <td>1.92468</td>\n",
       "      <td>4013.24</td>\n",
       "      <td>13115.20</td>\n",
       "      <td>0.999978</td>\n",
       "    </tr>\n",
       "    <tr>\n",
       "      <th>eta[2]</th>\n",
       "      <td>0.016556</td>\n",
       "      <td>0.014734</td>\n",
       "      <td>0.875863</td>\n",
       "      <td>-1.472870</td>\n",
       "      <td>0.017266</td>\n",
       "      <td>1.43080</td>\n",
       "      <td>3533.62</td>\n",
       "      <td>11547.80</td>\n",
       "      <td>0.999940</td>\n",
       "    </tr>\n",
       "    <tr>\n",
       "      <th>eta[3]</th>\n",
       "      <td>-0.178025</td>\n",
       "      <td>0.015019</td>\n",
       "      <td>0.909732</td>\n",
       "      <td>-1.656490</td>\n",
       "      <td>-0.185702</td>\n",
       "      <td>1.30498</td>\n",
       "      <td>3668.83</td>\n",
       "      <td>11989.60</td>\n",
       "      <td>0.999763</td>\n",
       "    </tr>\n",
       "    <tr>\n",
       "      <th>eta[4]</th>\n",
       "      <td>-0.047031</td>\n",
       "      <td>0.015551</td>\n",
       "      <td>0.899436</td>\n",
       "      <td>-1.543140</td>\n",
       "      <td>-0.033596</td>\n",
       "      <td>1.43543</td>\n",
       "      <td>3345.02</td>\n",
       "      <td>10931.50</td>\n",
       "      <td>1.000080</td>\n",
       "    </tr>\n",
       "    <tr>\n",
       "      <th>eta[5]</th>\n",
       "      <td>-0.359469</td>\n",
       "      <td>0.015875</td>\n",
       "      <td>0.877671</td>\n",
       "      <td>-1.797320</td>\n",
       "      <td>-0.368680</td>\n",
       "      <td>1.10693</td>\n",
       "      <td>3056.70</td>\n",
       "      <td>9989.21</td>\n",
       "      <td>0.999882</td>\n",
       "    </tr>\n",
       "    <tr>\n",
       "      <th>eta[6]</th>\n",
       "      <td>-0.216226</td>\n",
       "      <td>0.014556</td>\n",
       "      <td>0.883166</td>\n",
       "      <td>-1.659130</td>\n",
       "      <td>-0.230653</td>\n",
       "      <td>1.22917</td>\n",
       "      <td>3681.37</td>\n",
       "      <td>12030.60</td>\n",
       "      <td>1.000010</td>\n",
       "    </tr>\n",
       "    <tr>\n",
       "      <th>eta[7]</th>\n",
       "      <td>0.343554</td>\n",
       "      <td>0.014649</td>\n",
       "      <td>0.892823</td>\n",
       "      <td>-1.162000</td>\n",
       "      <td>0.367859</td>\n",
       "      <td>1.78423</td>\n",
       "      <td>3714.84</td>\n",
       "      <td>12140.00</td>\n",
       "      <td>0.999474</td>\n",
       "    </tr>\n",
       "    <tr>\n",
       "      <th>eta[8]</th>\n",
       "      <td>0.051114</td>\n",
       "      <td>0.015045</td>\n",
       "      <td>0.922553</td>\n",
       "      <td>-1.489820</td>\n",
       "      <td>0.057893</td>\n",
       "      <td>1.57970</td>\n",
       "      <td>3760.21</td>\n",
       "      <td>12288.30</td>\n",
       "      <td>0.999842</td>\n",
       "    </tr>\n",
       "    <tr>\n",
       "      <th>theta[1]</th>\n",
       "      <td>11.150200</td>\n",
       "      <td>0.144960</td>\n",
       "      <td>7.876030</td>\n",
       "      <td>0.142847</td>\n",
       "      <td>10.237800</td>\n",
       "      <td>25.63380</td>\n",
       "      <td>2952.03</td>\n",
       "      <td>9647.16</td>\n",
       "      <td>1.000290</td>\n",
       "    </tr>\n",
       "    <tr>\n",
       "      <th>theta[2]</th>\n",
       "      <td>7.884700</td>\n",
       "      <td>0.096188</td>\n",
       "      <td>6.245900</td>\n",
       "      <td>-2.293790</td>\n",
       "      <td>7.894810</td>\n",
       "      <td>18.28580</td>\n",
       "      <td>4216.44</td>\n",
       "      <td>13779.20</td>\n",
       "      <td>0.999631</td>\n",
       "    </tr>\n",
       "    <tr>\n",
       "      <th>theta[3]</th>\n",
       "      <td>6.291360</td>\n",
       "      <td>0.140781</td>\n",
       "      <td>7.688130</td>\n",
       "      <td>-7.159030</td>\n",
       "      <td>6.729520</td>\n",
       "      <td>17.90440</td>\n",
       "      <td>2982.31</td>\n",
       "      <td>9746.10</td>\n",
       "      <td>1.000330</td>\n",
       "    </tr>\n",
       "    <tr>\n",
       "      <th>theta[4]</th>\n",
       "      <td>7.551060</td>\n",
       "      <td>0.105041</td>\n",
       "      <td>6.596950</td>\n",
       "      <td>-3.549050</td>\n",
       "      <td>7.616230</td>\n",
       "      <td>18.39250</td>\n",
       "      <td>3944.28</td>\n",
       "      <td>12889.80</td>\n",
       "      <td>1.001130</td>\n",
       "    </tr>\n",
       "    <tr>\n",
       "      <th>theta[5]</th>\n",
       "      <td>5.144930</td>\n",
       "      <td>0.095500</td>\n",
       "      <td>6.258450</td>\n",
       "      <td>-5.855640</td>\n",
       "      <td>5.573290</td>\n",
       "      <td>14.61210</td>\n",
       "      <td>4294.64</td>\n",
       "      <td>14034.80</td>\n",
       "      <td>1.000270</td>\n",
       "    </tr>\n",
       "    <tr>\n",
       "      <th>theta[6]</th>\n",
       "      <td>6.166810</td>\n",
       "      <td>0.103272</td>\n",
       "      <td>6.664070</td>\n",
       "      <td>-5.462510</td>\n",
       "      <td>6.534410</td>\n",
       "      <td>16.23430</td>\n",
       "      <td>4164.06</td>\n",
       "      <td>13608.00</td>\n",
       "      <td>0.999965</td>\n",
       "    </tr>\n",
       "    <tr>\n",
       "      <th>theta[7]</th>\n",
       "      <td>10.614600</td>\n",
       "      <td>0.111393</td>\n",
       "      <td>6.823470</td>\n",
       "      <td>0.650086</td>\n",
       "      <td>9.918250</td>\n",
       "      <td>23.16190</td>\n",
       "      <td>3752.29</td>\n",
       "      <td>12262.40</td>\n",
       "      <td>1.000360</td>\n",
       "    </tr>\n",
       "    <tr>\n",
       "      <th>theta[8]</th>\n",
       "      <td>8.398780</td>\n",
       "      <td>0.132517</td>\n",
       "      <td>7.742770</td>\n",
       "      <td>-3.525690</td>\n",
       "      <td>8.057510</td>\n",
       "      <td>21.17020</td>\n",
       "      <td>3413.89</td>\n",
       "      <td>11156.50</td>\n",
       "      <td>0.999937</td>\n",
       "    </tr>\n",
       "  </tbody>\n",
       "</table>\n",
       "</div>"
      ],
      "text/plain": [
       "               Mean      MCSE    StdDev        5%        50%       95%  \\\n",
       "name                                                                     \n",
       "lp__      -4.860470  0.071753  2.548230 -9.481420  -4.643160  -1.06800   \n",
       "mu         7.882610  0.110283  5.004830 -0.185577   7.839250  16.04390   \n",
       "tau        6.377010  0.124605  5.202310  0.550699   5.165270  16.64970   \n",
       "eta[1]     0.388874  0.014757  0.934857 -1.168660   0.406352   1.92468   \n",
       "eta[2]     0.016556  0.014734  0.875863 -1.472870   0.017266   1.43080   \n",
       "eta[3]    -0.178025  0.015019  0.909732 -1.656490  -0.185702   1.30498   \n",
       "eta[4]    -0.047031  0.015551  0.899436 -1.543140  -0.033596   1.43543   \n",
       "eta[5]    -0.359469  0.015875  0.877671 -1.797320  -0.368680   1.10693   \n",
       "eta[6]    -0.216226  0.014556  0.883166 -1.659130  -0.230653   1.22917   \n",
       "eta[7]     0.343554  0.014649  0.892823 -1.162000   0.367859   1.78423   \n",
       "eta[8]     0.051114  0.015045  0.922553 -1.489820   0.057893   1.57970   \n",
       "theta[1]  11.150200  0.144960  7.876030  0.142847  10.237800  25.63380   \n",
       "theta[2]   7.884700  0.096188  6.245900 -2.293790   7.894810  18.28580   \n",
       "theta[3]   6.291360  0.140781  7.688130 -7.159030   6.729520  17.90440   \n",
       "theta[4]   7.551060  0.105041  6.596950 -3.549050   7.616230  18.39250   \n",
       "theta[5]   5.144930  0.095500  6.258450 -5.855640   5.573290  14.61210   \n",
       "theta[6]   6.166810  0.103272  6.664070 -5.462510   6.534410  16.23430   \n",
       "theta[7]  10.614600  0.111393  6.823470  0.650086   9.918250  23.16190   \n",
       "theta[8]   8.398780  0.132517  7.742770 -3.525690   8.057510  21.17020   \n",
       "\n",
       "            N_Eff   N_Eff/s     R_hat  \n",
       "name                                   \n",
       "lp__      1261.24   4121.70  1.000590  \n",
       "mu        2059.51   6730.44  1.000490  \n",
       "tau       1743.09   5696.39  1.001210  \n",
       "eta[1]    4013.24  13115.20  0.999978  \n",
       "eta[2]    3533.62  11547.80  0.999940  \n",
       "eta[3]    3668.83  11989.60  0.999763  \n",
       "eta[4]    3345.02  10931.50  1.000080  \n",
       "eta[5]    3056.70   9989.21  0.999882  \n",
       "eta[6]    3681.37  12030.60  1.000010  \n",
       "eta[7]    3714.84  12140.00  0.999474  \n",
       "eta[8]    3760.21  12288.30  0.999842  \n",
       "theta[1]  2952.03   9647.16  1.000290  \n",
       "theta[2]  4216.44  13779.20  0.999631  \n",
       "theta[3]  2982.31   9746.10  1.000330  \n",
       "theta[4]  3944.28  12889.80  1.001130  \n",
       "theta[5]  4294.64  14034.80  1.000270  \n",
       "theta[6]  4164.06  13608.00  0.999965  \n",
       "theta[7]  3752.29  12262.40  1.000360  \n",
       "theta[8]  3413.89  11156.50  0.999937  "
      ]
     },
     "execution_count": 7,
     "metadata": {},
     "output_type": "execute_result"
    }
   ],
   "source": [
    "fit.summary()"
   ]
  },
  {
   "cell_type": "code",
   "execution_count": 8,
   "id": "creative-religious",
   "metadata": {},
   "outputs": [
    {
     "name": "stdout",
     "output_type": "stream",
     "text": [
      "Processing csv files: /tmp/tmpyyoo803l/8schoolscxz0gsyf/8schools-20220713134434_1.csv, /tmp/tmpyyoo803l/8schoolscxz0gsyf/8schools-20220713134434_2.csv, /tmp/tmpyyoo803l/8schoolscxz0gsyf/8schools-20220713134434_3.csv, /tmp/tmpyyoo803l/8schoolscxz0gsyf/8schools-20220713134434_4.csv\n",
      "\n",
      "Checking sampler transitions treedepth.\n",
      "Treedepth satisfactory for all transitions.\n",
      "\n",
      "Checking sampler transitions for divergences.\n",
      "1 of 4000 (0.03%) transitions ended with a divergence.\n",
      "These divergent transitions indicate that HMC is not fully able to explore the posterior distribution.\n",
      "Try increasing adapt delta closer to 1.\n",
      "If this doesn't remove all divergences, try to reparameterize the model.\n",
      "\n",
      "Checking E-BFMI - sampler transitions HMC potential energy.\n",
      "E-BFMI satisfactory.\n",
      "\n",
      "Effective sample size satisfactory.\n",
      "\n",
      "Split R-hat values satisfactory all parameters.\n",
      "\n",
      "Processing complete.\n",
      "\n"
     ]
    }
   ],
   "source": [
    "print(fit.diagnose())"
   ]
  },
  {
   "cell_type": "code",
   "execution_count": null,
   "id": "780c263d-2fa8-45c0-9aaf-942af9bff2e1",
   "metadata": {},
   "outputs": [],
   "source": []
  }
 ],
 "metadata": {
  "kernelspec": {
   "display_name": "Python 3 (ipykernel)",
   "language": "python",
   "name": "python3"
  },
  "language_info": {
   "codemirror_mode": {
    "name": "ipython",
    "version": 3
   },
   "file_extension": ".py",
   "mimetype": "text/x-python",
   "name": "python",
   "nbconvert_exporter": "python",
   "pygments_lexer": "ipython3",
   "version": "3.10.2"
  }
 },
 "nbformat": 4,
 "nbformat_minor": 5
}
