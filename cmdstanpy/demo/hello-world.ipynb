{
 "cells": [
  {
   "cell_type": "markdown",
   "id": "important-republic",
   "metadata": {},
   "source": [
    "## CmdStanPyの動作確認"
   ]
  },
  {
   "cell_type": "markdown",
   "id": "precious-paste",
   "metadata": {},
   "source": [
    "### CmdStanPy公式の\"Hello World\""
   ]
  },
  {
   "cell_type": "code",
   "execution_count": 1,
   "id": "crazy-nelson",
   "metadata": {},
   "outputs": [
    {
     "name": "stdout",
     "output_type": "stream",
     "text": [
      "CmdStanModel: name=bernoulli\n",
      "\t stan_file=/root/.cmdstan/cmdstan-2.30.0/examples/bernoulli/bernoulli.stan\n",
      "\t exe_file=/root/.cmdstan/cmdstan-2.30.0/examples/bernoulli/bernoulli\n",
      "\t compiler_options=stanc_options={}, cpp_options={}\n"
     ]
    }
   ],
   "source": [
    "# import packages\n",
    "import os\n",
    "from cmdstanpy import cmdstan_path, CmdStanModel\n",
    "\n",
    "# specify Stan program file\n",
    "bernoulli_stan = os.path.join(cmdstan_path(), 'examples', 'bernoulli', 'bernoulli.stan')\n",
    "\n",
    "# instantiate the model; compiles the Stan program as needed.\n",
    "bernoulli_model = CmdStanModel(stan_file=bernoulli_stan)\n",
    "\n",
    "# inspect model object\n",
    "print(bernoulli_model)"
   ]
  },
  {
   "cell_type": "code",
   "execution_count": 2,
   "id": "living-medline",
   "metadata": {},
   "outputs": [
    {
     "name": "stderr",
     "output_type": "stream",
     "text": [
      "18:38:39 - cmdstanpy - INFO - CmdStan start processing\n"
     ]
    },
    {
     "data": {
      "application/vnd.jupyter.widget-view+json": {
       "model_id": "f7687df14d854280a9ffdf9ffb4c10ad",
       "version_major": 2,
       "version_minor": 0
      },
      "text/plain": [
       "chain 1 |          | 00:00 Status"
      ]
     },
     "metadata": {},
     "output_type": "display_data"
    },
    {
     "data": {
      "application/vnd.jupyter.widget-view+json": {
       "model_id": "3c621acf63784c6a8debaced2befd682",
       "version_major": 2,
       "version_minor": 0
      },
      "text/plain": [
       "chain 2 |          | 00:00 Status"
      ]
     },
     "metadata": {},
     "output_type": "display_data"
    },
    {
     "data": {
      "application/vnd.jupyter.widget-view+json": {
       "model_id": "56950d2e878c45c581d8f1b6f4cfb29c",
       "version_major": 2,
       "version_minor": 0
      },
      "text/plain": [
       "chain 3 |          | 00:00 Status"
      ]
     },
     "metadata": {},
     "output_type": "display_data"
    },
    {
     "data": {
      "application/vnd.jupyter.widget-view+json": {
       "model_id": "a2a1d6bcfe374e3e97b32994f0463edb",
       "version_major": 2,
       "version_minor": 0
      },
      "text/plain": [
       "chain 4 |          | 00:00 Status"
      ]
     },
     "metadata": {},
     "output_type": "display_data"
    },
    {
     "name": "stdout",
     "output_type": "stream",
     "text": [
      "                                                                                                                                                                                                                                                                                                                                "
     ]
    },
    {
     "name": "stderr",
     "output_type": "stream",
     "text": [
      "18:38:41 - cmdstanpy - INFO - CmdStan done processing.\n"
     ]
    },
    {
     "name": "stdout",
     "output_type": "stream",
     "text": [
      "\n",
      "CmdStanMCMC: model=bernoulli chains=4['method=sample', 'algorithm=hmc', 'adapt', 'engaged=1']\n",
      " csv_files:\n",
      "\t/workdir/demo/bernoulli-20220709183840_1.csv\n",
      "\t/workdir/demo/bernoulli-20220709183840_2.csv\n",
      "\t/workdir/demo/bernoulli-20220709183840_3.csv\n",
      "\t/workdir/demo/bernoulli-20220709183840_4.csv\n",
      " output_files:\n",
      "\t/workdir/demo/bernoulli-20220709183840_0-stdout.txt\n",
      "\t/workdir/demo/bernoulli-20220709183840_1-stdout.txt\n",
      "\t/workdir/demo/bernoulli-20220709183840_2-stdout.txt\n",
      "\t/workdir/demo/bernoulli-20220709183840_3-stdout.txt\n"
     ]
    }
   ],
   "source": [
    "# specify data file\n",
    "bernoulli_data = os.path.join(cmdstan_path(), 'examples', 'bernoulli', 'bernoulli.data.json')\n",
    "\n",
    "# fit the model\n",
    "bern_fit = bernoulli_model.sample(data=bernoulli_data, output_dir='.')\n",
    "\n",
    "# printing the object reports sampler commands, output files\n",
    "print(bern_fit)"
   ]
  },
  {
   "cell_type": "code",
   "execution_count": 3,
   "id": "hydraulic-listening",
   "metadata": {},
   "outputs": [
    {
     "data": {
      "text/html": [
       "<div>\n",
       "<style scoped>\n",
       "    .dataframe tbody tr th:only-of-type {\n",
       "        vertical-align: middle;\n",
       "    }\n",
       "\n",
       "    .dataframe tbody tr th {\n",
       "        vertical-align: top;\n",
       "    }\n",
       "\n",
       "    .dataframe thead th {\n",
       "        text-align: right;\n",
       "    }\n",
       "</style>\n",
       "<table border=\"1\" class=\"dataframe\">\n",
       "  <thead>\n",
       "    <tr style=\"text-align: right;\">\n",
       "      <th></th>\n",
       "      <th>Mean</th>\n",
       "      <th>MCSE</th>\n",
       "      <th>StdDev</th>\n",
       "      <th>5%</th>\n",
       "      <th>50%</th>\n",
       "      <th>95%</th>\n",
       "      <th>N_Eff</th>\n",
       "      <th>N_Eff/s</th>\n",
       "      <th>R_hat</th>\n",
       "    </tr>\n",
       "    <tr>\n",
       "      <th>name</th>\n",
       "      <th></th>\n",
       "      <th></th>\n",
       "      <th></th>\n",
       "      <th></th>\n",
       "      <th></th>\n",
       "      <th></th>\n",
       "      <th></th>\n",
       "      <th></th>\n",
       "      <th></th>\n",
       "    </tr>\n",
       "  </thead>\n",
       "  <tbody>\n",
       "    <tr>\n",
       "      <th>lp__</th>\n",
       "      <td>-7.282040</td>\n",
       "      <td>0.021632</td>\n",
       "      <td>0.735511</td>\n",
       "      <td>-8.764620</td>\n",
       "      <td>-6.989000</td>\n",
       "      <td>-6.750780</td>\n",
       "      <td>1156.08</td>\n",
       "      <td>495.957</td>\n",
       "      <td>1.00466</td>\n",
       "    </tr>\n",
       "    <tr>\n",
       "      <th>theta</th>\n",
       "      <td>0.249313</td>\n",
       "      <td>0.003317</td>\n",
       "      <td>0.119780</td>\n",
       "      <td>0.078098</td>\n",
       "      <td>0.236475</td>\n",
       "      <td>0.465121</td>\n",
       "      <td>1304.38</td>\n",
       "      <td>559.581</td>\n",
       "      <td>1.00201</td>\n",
       "    </tr>\n",
       "  </tbody>\n",
       "</table>\n",
       "</div>"
      ],
      "text/plain": [
       "           Mean      MCSE    StdDev        5%       50%       95%    N_Eff  \\\n",
       "name                                                                         \n",
       "lp__  -7.282040  0.021632  0.735511 -8.764620 -6.989000 -6.750780  1156.08   \n",
       "theta  0.249313  0.003317  0.119780  0.078098  0.236475  0.465121  1304.38   \n",
       "\n",
       "       N_Eff/s    R_hat  \n",
       "name                     \n",
       "lp__   495.957  1.00466  \n",
       "theta  559.581  1.00201  "
      ]
     },
     "execution_count": 3,
     "metadata": {},
     "output_type": "execute_result"
    }
   ],
   "source": [
    "bern_fit.summary()"
   ]
  },
  {
   "cell_type": "code",
   "execution_count": 4,
   "id": "explicit-commons",
   "metadata": {},
   "outputs": [
    {
     "name": "stdout",
     "output_type": "stream",
     "text": [
      "Processing csv files: /workdir/demo/bernoulli-20220709183840_1.csv, /workdir/demo/bernoulli-20220709183840_2.csv, /workdir/demo/bernoulli-20220709183840_3.csv, /workdir/demo/bernoulli-20220709183840_4.csv\n",
      "\n",
      "Checking sampler transitions treedepth.\n",
      "Treedepth satisfactory for all transitions.\n",
      "\n",
      "Checking sampler transitions for divergences.\n",
      "No divergent transitions found.\n",
      "\n",
      "Checking E-BFMI - sampler transitions HMC potential energy.\n",
      "E-BFMI satisfactory.\n",
      "\n",
      "Effective sample size satisfactory.\n",
      "\n",
      "Split R-hat values satisfactory all parameters.\n",
      "\n",
      "Processing complete, no problems detected.\n",
      "\n"
     ]
    }
   ],
   "source": [
    "print(bern_fit.diagnose())"
   ]
  },
  {
   "cell_type": "markdown",
   "id": "certain-expert",
   "metadata": {},
   "source": [
    "### 8schools\n",
    "- pystanとの速度比較"
   ]
  },
  {
   "cell_type": "code",
   "execution_count": 5,
   "id": "higher-steel",
   "metadata": {},
   "outputs": [
    {
     "name": "stderr",
     "output_type": "stream",
     "text": [
      "18:38:44 - cmdstanpy - INFO - compiling stan file /workdir/demo/8schools.stan to exe file /workdir/demo/8schools\n",
      "18:38:59 - cmdstanpy - INFO - compiled model executable: /workdir/demo/8schools\n"
     ]
    },
    {
     "name": "stdout",
     "output_type": "stream",
     "text": [
      "CPU times: user 7.15 ms, sys: 1.73 ms, total: 8.88 ms\n",
      "Wall time: 15.3 s\n"
     ]
    }
   ],
   "source": [
    "%%time\n",
    "model = CmdStanModel(stan_file=\"8schools.stan\")"
   ]
  },
  {
   "cell_type": "markdown",
   "id": "congressional-quest",
   "metadata": {},
   "source": [
    "- 15s程度でコンパイルできた。\n",
    "- pystan2では1min超を要したから、確かにコンパイルはかなり高速と言える。\n",
    "  - コンパイルしたモデルは保存されており、2回目以降は数秒で読み込める。(`8schools`と`8schools.hpp`を削除すれば初回同様となる)"
   ]
  },
  {
   "cell_type": "code",
   "execution_count": 6,
   "id": "awful-chain",
   "metadata": {},
   "outputs": [
    {
     "name": "stderr",
     "output_type": "stream",
     "text": [
      "18:39:27 - cmdstanpy - INFO - CmdStan start processing\n"
     ]
    },
    {
     "data": {
      "application/vnd.jupyter.widget-view+json": {
       "model_id": "2a2f3726b9b549e4a92f785466588cb2",
       "version_major": 2,
       "version_minor": 0
      },
      "text/plain": [
       "chain 1 |          | 00:00 Status"
      ]
     },
     "metadata": {},
     "output_type": "display_data"
    },
    {
     "data": {
      "application/vnd.jupyter.widget-view+json": {
       "model_id": "bb62128eb0994f78ad262ccf299f8594",
       "version_major": 2,
       "version_minor": 0
      },
      "text/plain": [
       "chain 2 |          | 00:00 Status"
      ]
     },
     "metadata": {},
     "output_type": "display_data"
    },
    {
     "data": {
      "application/vnd.jupyter.widget-view+json": {
       "model_id": "33dd61d18f734ab6887327e6625adb23",
       "version_major": 2,
       "version_minor": 0
      },
      "text/plain": [
       "chain 3 |          | 00:00 Status"
      ]
     },
     "metadata": {},
     "output_type": "display_data"
    },
    {
     "data": {
      "application/vnd.jupyter.widget-view+json": {
       "model_id": "fe5810090ce54bf8a90f0bbae33e7011",
       "version_major": 2,
       "version_minor": 0
      },
      "text/plain": [
       "chain 4 |          | 00:00 Status"
      ]
     },
     "metadata": {},
     "output_type": "display_data"
    },
    {
     "name": "stdout",
     "output_type": "stream",
     "text": [
      "                                                                                                                                                                                                                                                                                                                                "
     ]
    },
    {
     "name": "stderr",
     "output_type": "stream",
     "text": [
      "18:39:28 - cmdstanpy - INFO - CmdStan done processing.\n",
      "18:39:28 - cmdstanpy - WARNING - Some chains may have failed to converge.\n",
      "\tChain 2 had 1 divergent transitions (0.1%)\n",
      "\tChain 3 had 1 divergent transitions (0.1%)\n",
      "\tChain 4 had 3 divergent transitions (0.3%)\n",
      "\tUse function \"diagnose()\" to see further information.\n"
     ]
    },
    {
     "name": "stdout",
     "output_type": "stream",
     "text": [
      "\n",
      "CPU times: user 159 ms, sys: 36.3 ms, total: 195 ms\n",
      "Wall time: 347 ms\n"
     ]
    }
   ],
   "source": [
    "%%time\n",
    "data = \"8schools.data.json\"\n",
    "fit = model.sample(data=data, iter_sampling=1000, iter_warmup=500)"
   ]
  },
  {
   "cell_type": "markdown",
   "id": "jewish-editing",
   "metadata": {},
   "source": [
    "- 200ms強を要しており、微差ではあるがPyStan2（163ms）よりやや遅い？"
   ]
  },
  {
   "cell_type": "code",
   "execution_count": 7,
   "id": "going-iceland",
   "metadata": {},
   "outputs": [
    {
     "data": {
      "text/html": [
       "<div>\n",
       "<style scoped>\n",
       "    .dataframe tbody tr th:only-of-type {\n",
       "        vertical-align: middle;\n",
       "    }\n",
       "\n",
       "    .dataframe tbody tr th {\n",
       "        vertical-align: top;\n",
       "    }\n",
       "\n",
       "    .dataframe thead th {\n",
       "        text-align: right;\n",
       "    }\n",
       "</style>\n",
       "<table border=\"1\" class=\"dataframe\">\n",
       "  <thead>\n",
       "    <tr style=\"text-align: right;\">\n",
       "      <th></th>\n",
       "      <th>Mean</th>\n",
       "      <th>MCSE</th>\n",
       "      <th>StdDev</th>\n",
       "      <th>5%</th>\n",
       "      <th>50%</th>\n",
       "      <th>95%</th>\n",
       "      <th>N_Eff</th>\n",
       "      <th>N_Eff/s</th>\n",
       "      <th>R_hat</th>\n",
       "    </tr>\n",
       "    <tr>\n",
       "      <th>name</th>\n",
       "      <th></th>\n",
       "      <th></th>\n",
       "      <th></th>\n",
       "      <th></th>\n",
       "      <th></th>\n",
       "      <th></th>\n",
       "      <th></th>\n",
       "      <th></th>\n",
       "      <th></th>\n",
       "    </tr>\n",
       "  </thead>\n",
       "  <tbody>\n",
       "    <tr>\n",
       "      <th>lp__</th>\n",
       "      <td>-4.914330</td>\n",
       "      <td>0.077315</td>\n",
       "      <td>2.634870</td>\n",
       "      <td>-9.737940</td>\n",
       "      <td>-4.713500</td>\n",
       "      <td>-1.06305</td>\n",
       "      <td>1161.43</td>\n",
       "      <td>4721.25</td>\n",
       "      <td>1.002130</td>\n",
       "    </tr>\n",
       "    <tr>\n",
       "      <th>mu</th>\n",
       "      <td>7.885180</td>\n",
       "      <td>0.118630</td>\n",
       "      <td>5.144340</td>\n",
       "      <td>-0.496117</td>\n",
       "      <td>7.874970</td>\n",
       "      <td>16.19390</td>\n",
       "      <td>1880.50</td>\n",
       "      <td>7644.30</td>\n",
       "      <td>1.000360</td>\n",
       "    </tr>\n",
       "    <tr>\n",
       "      <th>tau</th>\n",
       "      <td>6.530190</td>\n",
       "      <td>0.141251</td>\n",
       "      <td>5.509800</td>\n",
       "      <td>0.468473</td>\n",
       "      <td>5.196350</td>\n",
       "      <td>17.19600</td>\n",
       "      <td>1521.55</td>\n",
       "      <td>6185.17</td>\n",
       "      <td>1.001540</td>\n",
       "    </tr>\n",
       "    <tr>\n",
       "      <th>eta[1]</th>\n",
       "      <td>0.393664</td>\n",
       "      <td>0.015740</td>\n",
       "      <td>0.927746</td>\n",
       "      <td>-1.162010</td>\n",
       "      <td>0.409985</td>\n",
       "      <td>1.85686</td>\n",
       "      <td>3473.96</td>\n",
       "      <td>14121.80</td>\n",
       "      <td>1.000130</td>\n",
       "    </tr>\n",
       "    <tr>\n",
       "      <th>eta[2]</th>\n",
       "      <td>0.010998</td>\n",
       "      <td>0.015033</td>\n",
       "      <td>0.879090</td>\n",
       "      <td>-1.446830</td>\n",
       "      <td>0.006289</td>\n",
       "      <td>1.44258</td>\n",
       "      <td>3419.69</td>\n",
       "      <td>13901.20</td>\n",
       "      <td>0.999298</td>\n",
       "    </tr>\n",
       "    <tr>\n",
       "      <th>eta[3]</th>\n",
       "      <td>-0.191749</td>\n",
       "      <td>0.015167</td>\n",
       "      <td>0.905373</td>\n",
       "      <td>-1.695800</td>\n",
       "      <td>-0.196473</td>\n",
       "      <td>1.30621</td>\n",
       "      <td>3563.14</td>\n",
       "      <td>14484.30</td>\n",
       "      <td>1.002260</td>\n",
       "    </tr>\n",
       "    <tr>\n",
       "      <th>eta[4]</th>\n",
       "      <td>-0.047209</td>\n",
       "      <td>0.015636</td>\n",
       "      <td>0.908164</td>\n",
       "      <td>-1.563020</td>\n",
       "      <td>-0.034566</td>\n",
       "      <td>1.44390</td>\n",
       "      <td>3373.46</td>\n",
       "      <td>13713.30</td>\n",
       "      <td>1.000410</td>\n",
       "    </tr>\n",
       "    <tr>\n",
       "      <th>eta[5]</th>\n",
       "      <td>-0.337758</td>\n",
       "      <td>0.014137</td>\n",
       "      <td>0.878224</td>\n",
       "      <td>-1.754290</td>\n",
       "      <td>-0.350363</td>\n",
       "      <td>1.15328</td>\n",
       "      <td>3859.15</td>\n",
       "      <td>15687.60</td>\n",
       "      <td>1.000130</td>\n",
       "    </tr>\n",
       "    <tr>\n",
       "      <th>eta[6]</th>\n",
       "      <td>-0.220067</td>\n",
       "      <td>0.015122</td>\n",
       "      <td>0.893699</td>\n",
       "      <td>-1.710480</td>\n",
       "      <td>-0.220767</td>\n",
       "      <td>1.27306</td>\n",
       "      <td>3492.91</td>\n",
       "      <td>14198.80</td>\n",
       "      <td>0.999790</td>\n",
       "    </tr>\n",
       "    <tr>\n",
       "      <th>eta[7]</th>\n",
       "      <td>0.349998</td>\n",
       "      <td>0.014360</td>\n",
       "      <td>0.899337</td>\n",
       "      <td>-1.152840</td>\n",
       "      <td>0.361596</td>\n",
       "      <td>1.79296</td>\n",
       "      <td>3922.06</td>\n",
       "      <td>15943.30</td>\n",
       "      <td>0.999737</td>\n",
       "    </tr>\n",
       "    <tr>\n",
       "      <th>eta[8]</th>\n",
       "      <td>0.061286</td>\n",
       "      <td>0.015260</td>\n",
       "      <td>0.936141</td>\n",
       "      <td>-1.488150</td>\n",
       "      <td>0.074860</td>\n",
       "      <td>1.60220</td>\n",
       "      <td>3763.13</td>\n",
       "      <td>15297.30</td>\n",
       "      <td>0.999828</td>\n",
       "    </tr>\n",
       "    <tr>\n",
       "      <th>theta[1]</th>\n",
       "      <td>11.376600</td>\n",
       "      <td>0.152330</td>\n",
       "      <td>8.308270</td>\n",
       "      <td>0.224692</td>\n",
       "      <td>10.242200</td>\n",
       "      <td>26.41490</td>\n",
       "      <td>2974.76</td>\n",
       "      <td>12092.50</td>\n",
       "      <td>1.000230</td>\n",
       "    </tr>\n",
       "    <tr>\n",
       "      <th>theta[2]</th>\n",
       "      <td>7.872380</td>\n",
       "      <td>0.095027</td>\n",
       "      <td>6.278350</td>\n",
       "      <td>-2.263310</td>\n",
       "      <td>7.742390</td>\n",
       "      <td>18.54110</td>\n",
       "      <td>4365.16</td>\n",
       "      <td>17744.60</td>\n",
       "      <td>0.999921</td>\n",
       "    </tr>\n",
       "    <tr>\n",
       "      <th>theta[3]</th>\n",
       "      <td>6.048780</td>\n",
       "      <td>0.142909</td>\n",
       "      <td>7.884380</td>\n",
       "      <td>-7.688840</td>\n",
       "      <td>6.813460</td>\n",
       "      <td>17.63330</td>\n",
       "      <td>3043.79</td>\n",
       "      <td>12373.10</td>\n",
       "      <td>1.001270</td>\n",
       "    </tr>\n",
       "    <tr>\n",
       "      <th>theta[4]</th>\n",
       "      <td>7.425620</td>\n",
       "      <td>0.110663</td>\n",
       "      <td>6.733810</td>\n",
       "      <td>-3.915570</td>\n",
       "      <td>7.572840</td>\n",
       "      <td>18.23540</td>\n",
       "      <td>3702.71</td>\n",
       "      <td>15051.70</td>\n",
       "      <td>0.999977</td>\n",
       "    </tr>\n",
       "    <tr>\n",
       "      <th>theta[5]</th>\n",
       "      <td>5.271590</td>\n",
       "      <td>0.103579</td>\n",
       "      <td>6.322420</td>\n",
       "      <td>-5.515610</td>\n",
       "      <td>5.675040</td>\n",
       "      <td>14.76040</td>\n",
       "      <td>3725.87</td>\n",
       "      <td>15145.80</td>\n",
       "      <td>0.999404</td>\n",
       "    </tr>\n",
       "    <tr>\n",
       "      <th>theta[6]</th>\n",
       "      <td>6.035880</td>\n",
       "      <td>0.108376</td>\n",
       "      <td>6.668590</td>\n",
       "      <td>-5.840120</td>\n",
       "      <td>6.496440</td>\n",
       "      <td>16.09670</td>\n",
       "      <td>3786.21</td>\n",
       "      <td>15391.10</td>\n",
       "      <td>0.999785</td>\n",
       "    </tr>\n",
       "    <tr>\n",
       "      <th>theta[7]</th>\n",
       "      <td>10.619300</td>\n",
       "      <td>0.116762</td>\n",
       "      <td>6.853920</td>\n",
       "      <td>0.288747</td>\n",
       "      <td>10.124500</td>\n",
       "      <td>22.69820</td>\n",
       "      <td>3445.70</td>\n",
       "      <td>14006.90</td>\n",
       "      <td>0.999809</td>\n",
       "    </tr>\n",
       "    <tr>\n",
       "      <th>theta[8]</th>\n",
       "      <td>8.336250</td>\n",
       "      <td>0.138769</td>\n",
       "      <td>7.843170</td>\n",
       "      <td>-4.047070</td>\n",
       "      <td>8.121260</td>\n",
       "      <td>21.55690</td>\n",
       "      <td>3194.48</td>\n",
       "      <td>12985.70</td>\n",
       "      <td>1.000380</td>\n",
       "    </tr>\n",
       "  </tbody>\n",
       "</table>\n",
       "</div>"
      ],
      "text/plain": [
       "               Mean      MCSE    StdDev        5%        50%       95%  \\\n",
       "name                                                                     \n",
       "lp__      -4.914330  0.077315  2.634870 -9.737940  -4.713500  -1.06305   \n",
       "mu         7.885180  0.118630  5.144340 -0.496117   7.874970  16.19390   \n",
       "tau        6.530190  0.141251  5.509800  0.468473   5.196350  17.19600   \n",
       "eta[1]     0.393664  0.015740  0.927746 -1.162010   0.409985   1.85686   \n",
       "eta[2]     0.010998  0.015033  0.879090 -1.446830   0.006289   1.44258   \n",
       "eta[3]    -0.191749  0.015167  0.905373 -1.695800  -0.196473   1.30621   \n",
       "eta[4]    -0.047209  0.015636  0.908164 -1.563020  -0.034566   1.44390   \n",
       "eta[5]    -0.337758  0.014137  0.878224 -1.754290  -0.350363   1.15328   \n",
       "eta[6]    -0.220067  0.015122  0.893699 -1.710480  -0.220767   1.27306   \n",
       "eta[7]     0.349998  0.014360  0.899337 -1.152840   0.361596   1.79296   \n",
       "eta[8]     0.061286  0.015260  0.936141 -1.488150   0.074860   1.60220   \n",
       "theta[1]  11.376600  0.152330  8.308270  0.224692  10.242200  26.41490   \n",
       "theta[2]   7.872380  0.095027  6.278350 -2.263310   7.742390  18.54110   \n",
       "theta[3]   6.048780  0.142909  7.884380 -7.688840   6.813460  17.63330   \n",
       "theta[4]   7.425620  0.110663  6.733810 -3.915570   7.572840  18.23540   \n",
       "theta[5]   5.271590  0.103579  6.322420 -5.515610   5.675040  14.76040   \n",
       "theta[6]   6.035880  0.108376  6.668590 -5.840120   6.496440  16.09670   \n",
       "theta[7]  10.619300  0.116762  6.853920  0.288747  10.124500  22.69820   \n",
       "theta[8]   8.336250  0.138769  7.843170 -4.047070   8.121260  21.55690   \n",
       "\n",
       "            N_Eff   N_Eff/s     R_hat  \n",
       "name                                   \n",
       "lp__      1161.43   4721.25  1.002130  \n",
       "mu        1880.50   7644.30  1.000360  \n",
       "tau       1521.55   6185.17  1.001540  \n",
       "eta[1]    3473.96  14121.80  1.000130  \n",
       "eta[2]    3419.69  13901.20  0.999298  \n",
       "eta[3]    3563.14  14484.30  1.002260  \n",
       "eta[4]    3373.46  13713.30  1.000410  \n",
       "eta[5]    3859.15  15687.60  1.000130  \n",
       "eta[6]    3492.91  14198.80  0.999790  \n",
       "eta[7]    3922.06  15943.30  0.999737  \n",
       "eta[8]    3763.13  15297.30  0.999828  \n",
       "theta[1]  2974.76  12092.50  1.000230  \n",
       "theta[2]  4365.16  17744.60  0.999921  \n",
       "theta[3]  3043.79  12373.10  1.001270  \n",
       "theta[4]  3702.71  15051.70  0.999977  \n",
       "theta[5]  3725.87  15145.80  0.999404  \n",
       "theta[6]  3786.21  15391.10  0.999785  \n",
       "theta[7]  3445.70  14006.90  0.999809  \n",
       "theta[8]  3194.48  12985.70  1.000380  "
      ]
     },
     "execution_count": 7,
     "metadata": {},
     "output_type": "execute_result"
    }
   ],
   "source": [
    "fit.summary()"
   ]
  },
  {
   "cell_type": "code",
   "execution_count": 8,
   "id": "creative-religious",
   "metadata": {},
   "outputs": [
    {
     "name": "stdout",
     "output_type": "stream",
     "text": [
      "Processing csv files: /tmp/tmpzq6d9p9t/8schoolss6i_9sli/8schools-20220709183927_1.csv, /tmp/tmpzq6d9p9t/8schoolss6i_9sli/8schools-20220709183927_2.csv, /tmp/tmpzq6d9p9t/8schoolss6i_9sli/8schools-20220709183927_3.csv, /tmp/tmpzq6d9p9t/8schoolss6i_9sli/8schools-20220709183927_4.csv\n",
      "\n",
      "Checking sampler transitions treedepth.\n",
      "Treedepth satisfactory for all transitions.\n",
      "\n",
      "Checking sampler transitions for divergences.\n",
      "5 of 4000 (0.12%) transitions ended with a divergence.\n",
      "These divergent transitions indicate that HMC is not fully able to explore the posterior distribution.\n",
      "Try increasing adapt delta closer to 1.\n",
      "If this doesn't remove all divergences, try to reparameterize the model.\n",
      "\n",
      "Checking E-BFMI - sampler transitions HMC potential energy.\n",
      "E-BFMI satisfactory.\n",
      "\n",
      "Effective sample size satisfactory.\n",
      "\n",
      "Split R-hat values satisfactory all parameters.\n",
      "\n",
      "Processing complete.\n",
      "\n"
     ]
    }
   ],
   "source": [
    "print(fit.diagnose())"
   ]
  },
  {
   "cell_type": "code",
   "execution_count": null,
   "id": "780c263d-2fa8-45c0-9aaf-942af9bff2e1",
   "metadata": {},
   "outputs": [],
   "source": []
  }
 ],
 "metadata": {
  "kernelspec": {
   "display_name": "Python 3 (ipykernel)",
   "language": "python",
   "name": "python3"
  },
  "language_info": {
   "codemirror_mode": {
    "name": "ipython",
    "version": 3
   },
   "file_extension": ".py",
   "mimetype": "text/x-python",
   "name": "python",
   "nbconvert_exporter": "python",
   "pygments_lexer": "ipython3",
   "version": "3.10.2"
  }
 },
 "nbformat": 4,
 "nbformat_minor": 5
}
