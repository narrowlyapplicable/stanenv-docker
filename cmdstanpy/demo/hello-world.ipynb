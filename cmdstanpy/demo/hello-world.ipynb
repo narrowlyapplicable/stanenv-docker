{
 "cells": [
  {
   "cell_type": "markdown",
   "id": "important-republic",
   "metadata": {},
   "source": [
    "## CmdStanPyの動作確認"
   ]
  },
  {
   "cell_type": "markdown",
   "id": "precious-paste",
   "metadata": {},
   "source": [
    "### CmdStanPy公式の\"Hello World\""
   ]
  },
  {
   "cell_type": "code",
   "execution_count": 1,
   "id": "crazy-nelson",
   "metadata": {},
   "outputs": [
    {
     "name": "stderr",
     "output_type": "stream",
     "text": [
      "INFO:cmdstanpy:found newer exe file, not recompiling\n",
      "INFO:cmdstanpy:compiled model file: /root/.cmdstan/cmdstan-2.26.1/examples/bernoulli/bernoulli\n"
     ]
    },
    {
     "name": "stdout",
     "output_type": "stream",
     "text": [
      "CmdStanModel: name=bernoulli\n",
      "\t stan_file=/root/.cmdstan/cmdstan-2.26.1/examples/bernoulli/bernoulli.stan\n",
      "\t exe_file=/root/.cmdstan/cmdstan-2.26.1/examples/bernoulli/bernoulli\n",
      "\t compiler_options=stanc_options=None, cpp_options=None\n"
     ]
    }
   ],
   "source": [
    "# import packages\n",
    "import os\n",
    "from cmdstanpy import cmdstan_path, CmdStanModel\n",
    "\n",
    "# specify Stan program file\n",
    "bernoulli_stan = os.path.join(cmdstan_path(), 'examples', 'bernoulli', 'bernoulli.stan')\n",
    "\n",
    "# instantiate the model; compiles the Stan program as needed.\n",
    "bernoulli_model = CmdStanModel(stan_file=bernoulli_stan)\n",
    "\n",
    "# inspect model object\n",
    "print(bernoulli_model)"
   ]
  },
  {
   "cell_type": "code",
   "execution_count": 2,
   "id": "living-medline",
   "metadata": {},
   "outputs": [
    {
     "name": "stderr",
     "output_type": "stream",
     "text": [
      "INFO:cmdstanpy:start chain 1\n",
      "INFO:cmdstanpy:start chain 2\n",
      "INFO:cmdstanpy:start chain 3\n",
      "INFO:cmdstanpy:finish chain 2\n",
      "INFO:cmdstanpy:finish chain 1\n",
      "INFO:cmdstanpy:start chain 4\n",
      "INFO:cmdstanpy:finish chain 3\n",
      "INFO:cmdstanpy:finish chain 4\n"
     ]
    },
    {
     "name": "stdout",
     "output_type": "stream",
     "text": [
      "CmdStanMCMC: model=bernoulli chains=4['method=sample', 'algorithm=hmc', 'adapt', 'engaged=1']\n",
      " csv_files:\n",
      "\t/workdir/demo/bernoulli-202105071636-1.csv\n",
      "\t/workdir/demo/bernoulli-202105071636-2.csv\n",
      "\t/workdir/demo/bernoulli-202105071636-3.csv\n",
      "\t/workdir/demo/bernoulli-202105071636-4.csv\n",
      " output_files:\n",
      "\t/workdir/demo/bernoulli-202105071636-1-stdout.txt\n",
      "\t/workdir/demo/bernoulli-202105071636-2-stdout.txt\n",
      "\t/workdir/demo/bernoulli-202105071636-3-stdout.txt\n",
      "\t/workdir/demo/bernoulli-202105071636-4-stdout.txt\n"
     ]
    }
   ],
   "source": [
    "# specify data file\n",
    "bernoulli_data = os.path.join(cmdstan_path(), 'examples', 'bernoulli', 'bernoulli.data.json')\n",
    "\n",
    "# fit the model\n",
    "bern_fit = bernoulli_model.sample(data=bernoulli_data, output_dir='.')\n",
    "\n",
    "# printing the object reports sampler commands, output files\n",
    "print(bern_fit)"
   ]
  },
  {
   "cell_type": "code",
   "execution_count": 3,
   "id": "hydraulic-listening",
   "metadata": {},
   "outputs": [
    {
     "data": {
      "text/html": [
       "<div>\n",
       "<style scoped>\n",
       "    .dataframe tbody tr th:only-of-type {\n",
       "        vertical-align: middle;\n",
       "    }\n",
       "\n",
       "    .dataframe tbody tr th {\n",
       "        vertical-align: top;\n",
       "    }\n",
       "\n",
       "    .dataframe thead th {\n",
       "        text-align: right;\n",
       "    }\n",
       "</style>\n",
       "<table border=\"1\" class=\"dataframe\">\n",
       "  <thead>\n",
       "    <tr style=\"text-align: right;\">\n",
       "      <th></th>\n",
       "      <th>Mean</th>\n",
       "      <th>MCSE</th>\n",
       "      <th>StdDev</th>\n",
       "      <th>5%</th>\n",
       "      <th>50%</th>\n",
       "      <th>95%</th>\n",
       "      <th>N_Eff</th>\n",
       "      <th>N_Eff/s</th>\n",
       "      <th>R_hat</th>\n",
       "    </tr>\n",
       "    <tr>\n",
       "      <th>name</th>\n",
       "      <th></th>\n",
       "      <th></th>\n",
       "      <th></th>\n",
       "      <th></th>\n",
       "      <th></th>\n",
       "      <th></th>\n",
       "      <th></th>\n",
       "      <th></th>\n",
       "      <th></th>\n",
       "    </tr>\n",
       "  </thead>\n",
       "  <tbody>\n",
       "    <tr>\n",
       "      <th>lp__</th>\n",
       "      <td>-7.30</td>\n",
       "      <td>0.0180</td>\n",
       "      <td>0.73</td>\n",
       "      <td>-8.80</td>\n",
       "      <td>-7.00</td>\n",
       "      <td>-6.70</td>\n",
       "      <td>1600.0</td>\n",
       "      <td>760.0</td>\n",
       "      <td>1.0</td>\n",
       "    </tr>\n",
       "    <tr>\n",
       "      <th>theta</th>\n",
       "      <td>0.25</td>\n",
       "      <td>0.0031</td>\n",
       "      <td>0.12</td>\n",
       "      <td>0.08</td>\n",
       "      <td>0.24</td>\n",
       "      <td>0.47</td>\n",
       "      <td>1500.0</td>\n",
       "      <td>700.0</td>\n",
       "      <td>1.0</td>\n",
       "    </tr>\n",
       "  </tbody>\n",
       "</table>\n",
       "</div>"
      ],
      "text/plain": [
       "       Mean    MCSE  StdDev    5%   50%   95%   N_Eff  N_Eff/s  R_hat\n",
       "name                                                                 \n",
       "lp__  -7.30  0.0180    0.73 -8.80 -7.00 -6.70  1600.0    760.0    1.0\n",
       "theta  0.25  0.0031    0.12  0.08  0.24  0.47  1500.0    700.0    1.0"
      ]
     },
     "execution_count": 3,
     "metadata": {},
     "output_type": "execute_result"
    }
   ],
   "source": [
    "bern_fit.summary()"
   ]
  },
  {
   "cell_type": "code",
   "execution_count": 4,
   "id": "explicit-commons",
   "metadata": {},
   "outputs": [
    {
     "name": "stderr",
     "output_type": "stream",
     "text": [
      "INFO:cmdstanpy:Processing csv files: /workdir/demo/bernoulli-202105071636-1.csv, /workdir/demo/bernoulli-202105071636-2.csv, /workdir/demo/bernoulli-202105071636-3.csv, /workdir/demo/bernoulli-202105071636-4.csv\n",
      "\n",
      "Checking sampler transitions treedepth.\n",
      "Treedepth satisfactory for all transitions.\n",
      "\n",
      "Checking sampler transitions for divergences.\n",
      "No divergent transitions found.\n",
      "\n",
      "Checking E-BFMI - sampler transitions HMC potential energy.\n",
      "E-BFMI satisfactory for all transitions.\n",
      "\n",
      "Effective sample size satisfactory.\n",
      "\n",
      "Split R-hat values satisfactory all parameters.\n",
      "\n",
      "Processing complete, no problems detected.\n"
     ]
    },
    {
     "data": {
      "text/plain": [
       "'Processing csv files: /workdir/demo/bernoulli-202105071636-1.csv, /workdir/demo/bernoulli-202105071636-2.csv, /workdir/demo/bernoulli-202105071636-3.csv, /workdir/demo/bernoulli-202105071636-4.csv\\n\\nChecking sampler transitions treedepth.\\nTreedepth satisfactory for all transitions.\\n\\nChecking sampler transitions for divergences.\\nNo divergent transitions found.\\n\\nChecking E-BFMI - sampler transitions HMC potential energy.\\nE-BFMI satisfactory for all transitions.\\n\\nEffective sample size satisfactory.\\n\\nSplit R-hat values satisfactory all parameters.\\n\\nProcessing complete, no problems detected.'"
      ]
     },
     "execution_count": 4,
     "metadata": {},
     "output_type": "execute_result"
    }
   ],
   "source": [
    "bern_fit.diagnose()"
   ]
  },
  {
   "cell_type": "markdown",
   "id": "certain-expert",
   "metadata": {},
   "source": [
    "### 8schools\n",
    "- pystanとの速度比較"
   ]
  },
  {
   "cell_type": "code",
   "execution_count": 5,
   "id": "higher-steel",
   "metadata": {},
   "outputs": [
    {
     "name": "stderr",
     "output_type": "stream",
     "text": [
      "INFO:cmdstanpy:compiling stan program, exe file: /workdir/demo/8schools\n",
      "INFO:cmdstanpy:compiler options: stanc_options=None, cpp_options=None\n",
      "INFO:cmdstanpy:compiled model file: /workdir/demo/8schools\n"
     ]
    },
    {
     "name": "stdout",
     "output_type": "stream",
     "text": [
      "CPU times: user 4.04 ms, sys: 6.77 ms, total: 10.8 ms\n",
      "Wall time: 17.2 s\n"
     ]
    }
   ],
   "source": [
    "%%time\n",
    "model = CmdStanModel(stan_file=\"8schools.stan\")"
   ]
  },
  {
   "cell_type": "markdown",
   "id": "congressional-quest",
   "metadata": {},
   "source": [
    "- 17~19s程度でコンパイルできた。\n",
    "- pystan2では1min超を要したから、確かにコンパイルはかなり高速と言える。\n",
    "  - コンパイルしたモデルは保存されており、2回目以降は数秒で読み込める。(`8schools`と`8schools.hpp`を削除すれば初回同様となる)"
   ]
  },
  {
   "cell_type": "code",
   "execution_count": 6,
   "id": "awful-chain",
   "metadata": {},
   "outputs": [
    {
     "name": "stderr",
     "output_type": "stream",
     "text": [
      "INFO:cmdstanpy:start chain 1\n",
      "INFO:cmdstanpy:start chain 2\n",
      "INFO:cmdstanpy:start chain 3\n",
      "INFO:cmdstanpy:finish chain 3\n",
      "INFO:cmdstanpy:start chain 4\n",
      "INFO:cmdstanpy:finish chain 1\n",
      "INFO:cmdstanpy:finish chain 2\n",
      "INFO:cmdstanpy:finish chain 4\n"
     ]
    },
    {
     "name": "stdout",
     "output_type": "stream",
     "text": [
      "CPU times: user 48.9 ms, sys: 38.5 ms, total: 87.3 ms\n",
      "Wall time: 244 ms\n"
     ]
    }
   ],
   "source": [
    "%%time\n",
    "data = \"8schools.data.json\"\n",
    "fit = model.sample(data=data, iter_sampling=1000, iter_warmup=500)"
   ]
  },
  {
   "cell_type": "markdown",
   "id": "jewish-editing",
   "metadata": {},
   "source": [
    "- 200ms強を要しており、微差ではあるがPyStan2（163ms）よりやや遅い？"
   ]
  },
  {
   "cell_type": "code",
   "execution_count": 7,
   "id": "going-iceland",
   "metadata": {},
   "outputs": [
    {
     "data": {
      "text/html": [
       "<div>\n",
       "<style scoped>\n",
       "    .dataframe tbody tr th:only-of-type {\n",
       "        vertical-align: middle;\n",
       "    }\n",
       "\n",
       "    .dataframe tbody tr th {\n",
       "        vertical-align: top;\n",
       "    }\n",
       "\n",
       "    .dataframe thead th {\n",
       "        text-align: right;\n",
       "    }\n",
       "</style>\n",
       "<table border=\"1\" class=\"dataframe\">\n",
       "  <thead>\n",
       "    <tr style=\"text-align: right;\">\n",
       "      <th></th>\n",
       "      <th>Mean</th>\n",
       "      <th>MCSE</th>\n",
       "      <th>StdDev</th>\n",
       "      <th>5%</th>\n",
       "      <th>50%</th>\n",
       "      <th>95%</th>\n",
       "      <th>N_Eff</th>\n",
       "      <th>N_Eff/s</th>\n",
       "      <th>R_hat</th>\n",
       "    </tr>\n",
       "    <tr>\n",
       "      <th>name</th>\n",
       "      <th></th>\n",
       "      <th></th>\n",
       "      <th></th>\n",
       "      <th></th>\n",
       "      <th></th>\n",
       "      <th></th>\n",
       "      <th></th>\n",
       "      <th></th>\n",
       "      <th></th>\n",
       "    </tr>\n",
       "  </thead>\n",
       "  <tbody>\n",
       "    <tr>\n",
       "      <th>lp__</th>\n",
       "      <td>-4.8000</td>\n",
       "      <td>0.071</td>\n",
       "      <td>2.60</td>\n",
       "      <td>-9.50</td>\n",
       "      <td>-4.600</td>\n",
       "      <td>-0.91</td>\n",
       "      <td>1300.0</td>\n",
       "      <td>6500.0</td>\n",
       "      <td>1.0</td>\n",
       "    </tr>\n",
       "    <tr>\n",
       "      <th>mu</th>\n",
       "      <td>7.8000</td>\n",
       "      <td>0.140</td>\n",
       "      <td>5.30</td>\n",
       "      <td>-0.87</td>\n",
       "      <td>7.900</td>\n",
       "      <td>16.00</td>\n",
       "      <td>1400.0</td>\n",
       "      <td>6800.0</td>\n",
       "      <td>1.0</td>\n",
       "    </tr>\n",
       "    <tr>\n",
       "      <th>tau</th>\n",
       "      <td>6.8000</td>\n",
       "      <td>0.190</td>\n",
       "      <td>5.80</td>\n",
       "      <td>0.55</td>\n",
       "      <td>5.500</td>\n",
       "      <td>18.00</td>\n",
       "      <td>970.0</td>\n",
       "      <td>4900.0</td>\n",
       "      <td>1.0</td>\n",
       "    </tr>\n",
       "    <tr>\n",
       "      <th>eta[1]</th>\n",
       "      <td>0.4000</td>\n",
       "      <td>0.016</td>\n",
       "      <td>0.94</td>\n",
       "      <td>-1.10</td>\n",
       "      <td>0.420</td>\n",
       "      <td>1.90</td>\n",
       "      <td>3567.0</td>\n",
       "      <td>17924.0</td>\n",
       "      <td>1.0</td>\n",
       "    </tr>\n",
       "    <tr>\n",
       "      <th>eta[2]</th>\n",
       "      <td>-0.0089</td>\n",
       "      <td>0.014</td>\n",
       "      <td>0.86</td>\n",
       "      <td>-1.40</td>\n",
       "      <td>-0.013</td>\n",
       "      <td>1.40</td>\n",
       "      <td>3719.0</td>\n",
       "      <td>18687.0</td>\n",
       "      <td>1.0</td>\n",
       "    </tr>\n",
       "    <tr>\n",
       "      <th>eta[3]</th>\n",
       "      <td>-0.1700</td>\n",
       "      <td>0.016</td>\n",
       "      <td>0.94</td>\n",
       "      <td>-1.70</td>\n",
       "      <td>-0.180</td>\n",
       "      <td>1.40</td>\n",
       "      <td>3508.0</td>\n",
       "      <td>17630.0</td>\n",
       "      <td>1.0</td>\n",
       "    </tr>\n",
       "    <tr>\n",
       "      <th>eta[4]</th>\n",
       "      <td>-0.0360</td>\n",
       "      <td>0.015</td>\n",
       "      <td>0.87</td>\n",
       "      <td>-1.50</td>\n",
       "      <td>-0.050</td>\n",
       "      <td>1.40</td>\n",
       "      <td>3155.0</td>\n",
       "      <td>15856.0</td>\n",
       "      <td>1.0</td>\n",
       "    </tr>\n",
       "    <tr>\n",
       "      <th>eta[5]</th>\n",
       "      <td>-0.3600</td>\n",
       "      <td>0.015</td>\n",
       "      <td>0.86</td>\n",
       "      <td>-1.80</td>\n",
       "      <td>-0.370</td>\n",
       "      <td>1.10</td>\n",
       "      <td>3294.0</td>\n",
       "      <td>16552.0</td>\n",
       "      <td>1.0</td>\n",
       "    </tr>\n",
       "    <tr>\n",
       "      <th>eta[6]</th>\n",
       "      <td>-0.2200</td>\n",
       "      <td>0.015</td>\n",
       "      <td>0.89</td>\n",
       "      <td>-1.70</td>\n",
       "      <td>-0.220</td>\n",
       "      <td>1.30</td>\n",
       "      <td>3700.0</td>\n",
       "      <td>18591.0</td>\n",
       "      <td>1.0</td>\n",
       "    </tr>\n",
       "    <tr>\n",
       "      <th>eta[7]</th>\n",
       "      <td>0.3600</td>\n",
       "      <td>0.016</td>\n",
       "      <td>0.88</td>\n",
       "      <td>-1.10</td>\n",
       "      <td>0.370</td>\n",
       "      <td>1.80</td>\n",
       "      <td>3193.0</td>\n",
       "      <td>16044.0</td>\n",
       "      <td>1.0</td>\n",
       "    </tr>\n",
       "    <tr>\n",
       "      <th>eta[8]</th>\n",
       "      <td>0.0540</td>\n",
       "      <td>0.015</td>\n",
       "      <td>0.92</td>\n",
       "      <td>-1.50</td>\n",
       "      <td>0.061</td>\n",
       "      <td>1.60</td>\n",
       "      <td>3530.0</td>\n",
       "      <td>17739.0</td>\n",
       "      <td>1.0</td>\n",
       "    </tr>\n",
       "    <tr>\n",
       "      <th>theta[1]</th>\n",
       "      <td>12.0000</td>\n",
       "      <td>0.170</td>\n",
       "      <td>8.70</td>\n",
       "      <td>-0.11</td>\n",
       "      <td>10.000</td>\n",
       "      <td>28.00</td>\n",
       "      <td>2513.0</td>\n",
       "      <td>12627.0</td>\n",
       "      <td>1.0</td>\n",
       "    </tr>\n",
       "    <tr>\n",
       "      <th>theta[2]</th>\n",
       "      <td>7.8000</td>\n",
       "      <td>0.096</td>\n",
       "      <td>6.40</td>\n",
       "      <td>-2.60</td>\n",
       "      <td>7.700</td>\n",
       "      <td>18.00</td>\n",
       "      <td>4439.0</td>\n",
       "      <td>22306.0</td>\n",
       "      <td>1.0</td>\n",
       "    </tr>\n",
       "    <tr>\n",
       "      <th>theta[3]</th>\n",
       "      <td>6.0000</td>\n",
       "      <td>0.140</td>\n",
       "      <td>7.80</td>\n",
       "      <td>-7.60</td>\n",
       "      <td>6.600</td>\n",
       "      <td>17.00</td>\n",
       "      <td>3115.0</td>\n",
       "      <td>15655.0</td>\n",
       "      <td>1.0</td>\n",
       "    </tr>\n",
       "    <tr>\n",
       "      <th>theta[4]</th>\n",
       "      <td>7.6000</td>\n",
       "      <td>0.100</td>\n",
       "      <td>6.60</td>\n",
       "      <td>-3.00</td>\n",
       "      <td>7.400</td>\n",
       "      <td>19.00</td>\n",
       "      <td>4198.0</td>\n",
       "      <td>21097.0</td>\n",
       "      <td>1.0</td>\n",
       "    </tr>\n",
       "    <tr>\n",
       "      <th>theta[5]</th>\n",
       "      <td>5.1000</td>\n",
       "      <td>0.099</td>\n",
       "      <td>6.40</td>\n",
       "      <td>-6.70</td>\n",
       "      <td>5.500</td>\n",
       "      <td>15.00</td>\n",
       "      <td>4185.0</td>\n",
       "      <td>21029.0</td>\n",
       "      <td>1.0</td>\n",
       "    </tr>\n",
       "    <tr>\n",
       "      <th>theta[6]</th>\n",
       "      <td>6.0000</td>\n",
       "      <td>0.110</td>\n",
       "      <td>6.70</td>\n",
       "      <td>-5.70</td>\n",
       "      <td>6.400</td>\n",
       "      <td>16.00</td>\n",
       "      <td>3620.0</td>\n",
       "      <td>18190.0</td>\n",
       "      <td>1.0</td>\n",
       "    </tr>\n",
       "    <tr>\n",
       "      <th>theta[7]</th>\n",
       "      <td>11.0000</td>\n",
       "      <td>0.120</td>\n",
       "      <td>6.80</td>\n",
       "      <td>0.94</td>\n",
       "      <td>9.800</td>\n",
       "      <td>23.00</td>\n",
       "      <td>2955.0</td>\n",
       "      <td>14849.0</td>\n",
       "      <td>1.0</td>\n",
       "    </tr>\n",
       "    <tr>\n",
       "      <th>theta[8]</th>\n",
       "      <td>8.3000</td>\n",
       "      <td>0.150</td>\n",
       "      <td>8.00</td>\n",
       "      <td>-4.20</td>\n",
       "      <td>8.100</td>\n",
       "      <td>22.00</td>\n",
       "      <td>2861.0</td>\n",
       "      <td>14375.0</td>\n",
       "      <td>1.0</td>\n",
       "    </tr>\n",
       "  </tbody>\n",
       "</table>\n",
       "</div>"
      ],
      "text/plain": [
       "             Mean   MCSE  StdDev    5%     50%    95%   N_Eff  N_Eff/s  R_hat\n",
       "name                                                                         \n",
       "lp__      -4.8000  0.071    2.60 -9.50  -4.600  -0.91  1300.0   6500.0    1.0\n",
       "mu         7.8000  0.140    5.30 -0.87   7.900  16.00  1400.0   6800.0    1.0\n",
       "tau        6.8000  0.190    5.80  0.55   5.500  18.00   970.0   4900.0    1.0\n",
       "eta[1]     0.4000  0.016    0.94 -1.10   0.420   1.90  3567.0  17924.0    1.0\n",
       "eta[2]    -0.0089  0.014    0.86 -1.40  -0.013   1.40  3719.0  18687.0    1.0\n",
       "eta[3]    -0.1700  0.016    0.94 -1.70  -0.180   1.40  3508.0  17630.0    1.0\n",
       "eta[4]    -0.0360  0.015    0.87 -1.50  -0.050   1.40  3155.0  15856.0    1.0\n",
       "eta[5]    -0.3600  0.015    0.86 -1.80  -0.370   1.10  3294.0  16552.0    1.0\n",
       "eta[6]    -0.2200  0.015    0.89 -1.70  -0.220   1.30  3700.0  18591.0    1.0\n",
       "eta[7]     0.3600  0.016    0.88 -1.10   0.370   1.80  3193.0  16044.0    1.0\n",
       "eta[8]     0.0540  0.015    0.92 -1.50   0.061   1.60  3530.0  17739.0    1.0\n",
       "theta[1]  12.0000  0.170    8.70 -0.11  10.000  28.00  2513.0  12627.0    1.0\n",
       "theta[2]   7.8000  0.096    6.40 -2.60   7.700  18.00  4439.0  22306.0    1.0\n",
       "theta[3]   6.0000  0.140    7.80 -7.60   6.600  17.00  3115.0  15655.0    1.0\n",
       "theta[4]   7.6000  0.100    6.60 -3.00   7.400  19.00  4198.0  21097.0    1.0\n",
       "theta[5]   5.1000  0.099    6.40 -6.70   5.500  15.00  4185.0  21029.0    1.0\n",
       "theta[6]   6.0000  0.110    6.70 -5.70   6.400  16.00  3620.0  18190.0    1.0\n",
       "theta[7]  11.0000  0.120    6.80  0.94   9.800  23.00  2955.0  14849.0    1.0\n",
       "theta[8]   8.3000  0.150    8.00 -4.20   8.100  22.00  2861.0  14375.0    1.0"
      ]
     },
     "execution_count": 7,
     "metadata": {},
     "output_type": "execute_result"
    }
   ],
   "source": [
    "fit.summary()"
   ]
  },
  {
   "cell_type": "code",
   "execution_count": 8,
   "id": "creative-religious",
   "metadata": {},
   "outputs": [
    {
     "name": "stderr",
     "output_type": "stream",
     "text": [
      "INFO:cmdstanpy:Processing csv files: /tmp/tmpiwvlgs46/8schools-202105071636-1-fs7gms4y.csv, /tmp/tmpiwvlgs46/8schools-202105071636-2-4r9gtu6w.csv, /tmp/tmpiwvlgs46/8schools-202105071636-3-9g5fnvkc.csv, /tmp/tmpiwvlgs46/8schools-202105071636-4-pex8tj_l.csv\n",
      "\n",
      "Checking sampler transitions treedepth.\n",
      "Treedepth satisfactory for all transitions.\n",
      "\n",
      "Checking sampler transitions for divergences.\n",
      "3 of 4000 (0.075%) transitions ended with a divergence.\n",
      "These divergent transitions indicate that HMC is not fully able to explore the posterior distribution.\n",
      "Try increasing adapt delta closer to 1.\n",
      "If this doesn't remove all divergences, try to reparameterize the model.\n",
      "\n",
      "Checking E-BFMI - sampler transitions HMC potential energy.\n",
      "E-BFMI satisfactory for all transitions.\n",
      "\n",
      "Effective sample size satisfactory.\n",
      "\n",
      "Split R-hat values satisfactory all parameters.\n",
      "\n",
      "Processing complete.\n"
     ]
    },
    {
     "data": {
      "text/plain": [
       "\"Processing csv files: /tmp/tmpiwvlgs46/8schools-202105071636-1-fs7gms4y.csv, /tmp/tmpiwvlgs46/8schools-202105071636-2-4r9gtu6w.csv, /tmp/tmpiwvlgs46/8schools-202105071636-3-9g5fnvkc.csv, /tmp/tmpiwvlgs46/8schools-202105071636-4-pex8tj_l.csv\\n\\nChecking sampler transitions treedepth.\\nTreedepth satisfactory for all transitions.\\n\\nChecking sampler transitions for divergences.\\n3 of 4000 (0.075%) transitions ended with a divergence.\\nThese divergent transitions indicate that HMC is not fully able to explore the posterior distribution.\\nTry increasing adapt delta closer to 1.\\nIf this doesn't remove all divergences, try to reparameterize the model.\\n\\nChecking E-BFMI - sampler transitions HMC potential energy.\\nE-BFMI satisfactory for all transitions.\\n\\nEffective sample size satisfactory.\\n\\nSplit R-hat values satisfactory all parameters.\\n\\nProcessing complete.\""
      ]
     },
     "execution_count": 8,
     "metadata": {},
     "output_type": "execute_result"
    }
   ],
   "source": [
    "fit.diagnose()"
   ]
  }
 ],
 "metadata": {
  "kernelspec": {
   "display_name": "Python 3",
   "language": "python",
   "name": "python3"
  },
  "language_info": {
   "codemirror_mode": {
    "name": "ipython",
    "version": 3
   },
   "file_extension": ".py",
   "mimetype": "text/x-python",
   "name": "python",
   "nbconvert_exporter": "python",
   "pygments_lexer": "ipython3",
   "version": "3.8.8"
  }
 },
 "nbformat": 4,
 "nbformat_minor": 5
}
