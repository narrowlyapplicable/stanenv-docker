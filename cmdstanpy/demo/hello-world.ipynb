{
 "cells": [
  {
   "cell_type": "markdown",
   "id": "important-republic",
   "metadata": {},
   "source": [
    "## CmdStanPyの動作確認"
   ]
  },
  {
   "cell_type": "markdown",
   "id": "precious-paste",
   "metadata": {},
   "source": [
    "### CmdStanPy公式の\"Hello World\""
   ]
  },
  {
   "cell_type": "code",
   "execution_count": 1,
   "id": "crazy-nelson",
   "metadata": {},
   "outputs": [
    {
     "name": "stderr",
     "output_type": "stream",
     "text": [
      "/opt/conda/lib/python3.10/site-packages/tqdm/auto.py:22: TqdmWarning: IProgress not found. Please update jupyter and ipywidgets. See https://ipywidgets.readthedocs.io/en/stable/user_install.html\n",
      "  from .autonotebook import tqdm as notebook_tqdm\n"
     ]
    },
    {
     "name": "stdout",
     "output_type": "stream",
     "text": [
      "CmdStanModel: name=bernoulli\n",
      "\t stan_file=/root/.cmdstan/cmdstan-2.30.0/examples/bernoulli/bernoulli.stan\n",
      "\t exe_file=/root/.cmdstan/cmdstan-2.30.0/examples/bernoulli/bernoulli\n",
      "\t compiler_options=stanc_options={}, cpp_options={}\n"
     ]
    }
   ],
   "source": [
    "# import packages\n",
    "import os\n",
    "from cmdstanpy import cmdstan_path, CmdStanModel\n",
    "\n",
    "# specify Stan program file\n",
    "bernoulli_stan = os.path.join(cmdstan_path(), 'examples', 'bernoulli', 'bernoulli.stan')\n",
    "\n",
    "# instantiate the model; compiles the Stan program as needed.\n",
    "bernoulli_model = CmdStanModel(stan_file=bernoulli_stan)\n",
    "\n",
    "# inspect model object\n",
    "print(bernoulli_model)"
   ]
  },
  {
   "cell_type": "code",
   "execution_count": 2,
   "id": "living-medline",
   "metadata": {},
   "outputs": [
    {
     "name": "stderr",
     "output_type": "stream",
     "text": [
      "18:10:36 - cmdstanpy - INFO - CmdStan start processing\n",
      "chain 1 |\u001b[33m          \u001b[0m| 00:00 Status\n",
      "chain 2 |\u001b[33m          \u001b[0m| 00:00 Status\u001b[A\n",
      "\n",
      "chain 3 |\u001b[33m          \u001b[0m| 00:00 Status\u001b[A\u001b[A\n",
      "\n",
      "\n",
      "chain 4 |\u001b[33m          \u001b[0m| 00:00 Status\u001b[A\u001b[A\u001b[A\n",
      "\n",
      "chain 1 |\u001b[34m█████▉    \u001b[0m| 00:00 Iteration: 1001 / 2000 [ 50%]  (Sampling)\u001b[A\u001b[A\n",
      "chain 2 |\u001b[34m█████▉    \u001b[0m| 00:00 Iteration: 1001 / 2000 [ 50%]  (Sampling)\u001b[A\n",
      "\n",
      "\n",
      "chain 4 |\u001b[33m▍         \u001b[0m| 00:00 Status\u001b[A\u001b[A\u001b[A\n",
      "\n",
      "\n",
      "chain 4 |\u001b[34m██████▊   \u001b[0m| 00:00 Iteration: 1200 / 2000 [ 60%]  (Sampling)\u001b[A\u001b[A\u001b[A\n",
      "\n",
      "\n",
      "chain 1 |\u001b[34m██████████\u001b[0m| 00:01 Sampling completed                       \u001b[A\u001b[A\u001b[A\n",
      "chain 2 |\u001b[34m██████████\u001b[0m| 00:01 Sampling completed                       \n",
      "chain 3 |\u001b[34m██████████\u001b[0m| 00:01 Sampling completed                       \n",
      "chain 4 |\u001b[34m██████████\u001b[0m| 00:01 Sampling completed                       "
     ]
    },
    {
     "name": "stdout",
     "output_type": "stream",
     "text": [
      "                                                                                                                                                                                                                                                                                                                                "
     ]
    },
    {
     "name": "stderr",
     "output_type": "stream",
     "text": [
      "\n",
      "18:10:37 - cmdstanpy - INFO - CmdStan done processing.\n"
     ]
    },
    {
     "name": "stdout",
     "output_type": "stream",
     "text": [
      "\n",
      "CmdStanMCMC: model=bernoulli chains=4['method=sample', 'algorithm=hmc', 'adapt', 'engaged=1']\n",
      " csv_files:\n",
      "\t/workdir/demo/bernoulli-20220709181036_1.csv\n",
      "\t/workdir/demo/bernoulli-20220709181036_2.csv\n",
      "\t/workdir/demo/bernoulli-20220709181036_3.csv\n",
      "\t/workdir/demo/bernoulli-20220709181036_4.csv\n",
      " output_files:\n",
      "\t/workdir/demo/bernoulli-20220709181036_0-stdout.txt\n",
      "\t/workdir/demo/bernoulli-20220709181036_1-stdout.txt\n",
      "\t/workdir/demo/bernoulli-20220709181036_2-stdout.txt\n",
      "\t/workdir/demo/bernoulli-20220709181036_3-stdout.txt\n"
     ]
    }
   ],
   "source": [
    "# specify data file\n",
    "bernoulli_data = os.path.join(cmdstan_path(), 'examples', 'bernoulli', 'bernoulli.data.json')\n",
    "\n",
    "# fit the model\n",
    "bern_fit = bernoulli_model.sample(data=bernoulli_data, output_dir='.')\n",
    "\n",
    "# printing the object reports sampler commands, output files\n",
    "print(bern_fit)"
   ]
  },
  {
   "cell_type": "code",
   "execution_count": 3,
   "id": "hydraulic-listening",
   "metadata": {},
   "outputs": [
    {
     "data": {
      "text/html": [
       "<div>\n",
       "<style scoped>\n",
       "    .dataframe tbody tr th:only-of-type {\n",
       "        vertical-align: middle;\n",
       "    }\n",
       "\n",
       "    .dataframe tbody tr th {\n",
       "        vertical-align: top;\n",
       "    }\n",
       "\n",
       "    .dataframe thead th {\n",
       "        text-align: right;\n",
       "    }\n",
       "</style>\n",
       "<table border=\"1\" class=\"dataframe\">\n",
       "  <thead>\n",
       "    <tr style=\"text-align: right;\">\n",
       "      <th></th>\n",
       "      <th>Mean</th>\n",
       "      <th>MCSE</th>\n",
       "      <th>StdDev</th>\n",
       "      <th>5%</th>\n",
       "      <th>50%</th>\n",
       "      <th>95%</th>\n",
       "      <th>N_Eff</th>\n",
       "      <th>N_Eff/s</th>\n",
       "      <th>R_hat</th>\n",
       "    </tr>\n",
       "    <tr>\n",
       "      <th>name</th>\n",
       "      <th></th>\n",
       "      <th></th>\n",
       "      <th></th>\n",
       "      <th></th>\n",
       "      <th></th>\n",
       "      <th></th>\n",
       "      <th></th>\n",
       "      <th></th>\n",
       "      <th></th>\n",
       "    </tr>\n",
       "  </thead>\n",
       "  <tbody>\n",
       "    <tr>\n",
       "      <th>lp__</th>\n",
       "      <td>-7.281130</td>\n",
       "      <td>0.021597</td>\n",
       "      <td>0.771942</td>\n",
       "      <td>-8.799580</td>\n",
       "      <td>-6.983700</td>\n",
       "      <td>-6.750230</td>\n",
       "      <td>1277.52</td>\n",
       "      <td>616.861</td>\n",
       "      <td>1.004490</td>\n",
       "    </tr>\n",
       "    <tr>\n",
       "      <th>theta</th>\n",
       "      <td>0.251705</td>\n",
       "      <td>0.003143</td>\n",
       "      <td>0.120175</td>\n",
       "      <td>0.079998</td>\n",
       "      <td>0.239871</td>\n",
       "      <td>0.472756</td>\n",
       "      <td>1462.05</td>\n",
       "      <td>705.961</td>\n",
       "      <td>0.999806</td>\n",
       "    </tr>\n",
       "  </tbody>\n",
       "</table>\n",
       "</div>"
      ],
      "text/plain": [
       "           Mean      MCSE    StdDev        5%       50%       95%    N_Eff  \\\n",
       "name                                                                         \n",
       "lp__  -7.281130  0.021597  0.771942 -8.799580 -6.983700 -6.750230  1277.52   \n",
       "theta  0.251705  0.003143  0.120175  0.079998  0.239871  0.472756  1462.05   \n",
       "\n",
       "       N_Eff/s     R_hat  \n",
       "name                      \n",
       "lp__   616.861  1.004490  \n",
       "theta  705.961  0.999806  "
      ]
     },
     "execution_count": 3,
     "metadata": {},
     "output_type": "execute_result"
    }
   ],
   "source": [
    "bern_fit.summary()"
   ]
  },
  {
   "cell_type": "code",
   "execution_count": 4,
   "id": "explicit-commons",
   "metadata": {},
   "outputs": [
    {
     "data": {
      "text/plain": [
       "'Processing csv files: /workdir/demo/bernoulli-20220709181036_1.csv, /workdir/demo/bernoulli-20220709181036_2.csv, /workdir/demo/bernoulli-20220709181036_3.csv, /workdir/demo/bernoulli-20220709181036_4.csv\\n\\nChecking sampler transitions treedepth.\\nTreedepth satisfactory for all transitions.\\n\\nChecking sampler transitions for divergences.\\nNo divergent transitions found.\\n\\nChecking E-BFMI - sampler transitions HMC potential energy.\\nE-BFMI satisfactory.\\n\\nEffective sample size satisfactory.\\n\\nSplit R-hat values satisfactory all parameters.\\n\\nProcessing complete, no problems detected.\\n'"
      ]
     },
     "execution_count": 4,
     "metadata": {},
     "output_type": "execute_result"
    }
   ],
   "source": [
    "bern_fit.diagnose()"
   ]
  },
  {
   "cell_type": "markdown",
   "id": "certain-expert",
   "metadata": {},
   "source": [
    "### 8schools\n",
    "- pystanとの速度比較"
   ]
  },
  {
   "cell_type": "code",
   "execution_count": 5,
   "id": "higher-steel",
   "metadata": {},
   "outputs": [
    {
     "name": "stderr",
     "output_type": "stream",
     "text": [
      "18:11:46 - cmdstanpy - INFO - compiling stan file /workdir/demo/8schools.stan to exe file /workdir/demo/8schools\n",
      "18:12:01 - cmdstanpy - INFO - compiled model executable: /workdir/demo/8schools\n"
     ]
    },
    {
     "name": "stdout",
     "output_type": "stream",
     "text": [
      "CPU times: user 3.08 ms, sys: 3.32 ms, total: 6.4 ms\n",
      "Wall time: 14.4 s\n"
     ]
    }
   ],
   "source": [
    "%%time\n",
    "model = CmdStanModel(stan_file=\"8schools.stan\")"
   ]
  },
  {
   "cell_type": "markdown",
   "id": "congressional-quest",
   "metadata": {},
   "source": [
    "- 15s程度でコンパイルできた。\n",
    "- pystan2では1min超を要したから、確かにコンパイルはかなり高速と言える。\n",
    "  - コンパイルしたモデルは保存されており、2回目以降は数秒で読み込める。(`8schools`と`8schools.hpp`を削除すれば初回同様となる)"
   ]
  },
  {
   "cell_type": "code",
   "execution_count": 6,
   "id": "awful-chain",
   "metadata": {},
   "outputs": [
    {
     "name": "stderr",
     "output_type": "stream",
     "text": [
      "18:12:13 - cmdstanpy - INFO - CmdStan start processing\n",
      "chain 1 |\u001b[33m          \u001b[0m| 00:00 Status\n",
      "chain 2 |\u001b[33m          \u001b[0m| 00:00 Status\u001b[A\n",
      "\n",
      "chain 3 |\u001b[33m          \u001b[0m| 00:00 Status\u001b[A\u001b[A\n",
      "\n",
      "\n",
      "chain 4 |\u001b[33m          \u001b[0m| 00:00 Status\u001b[A\u001b[A\u001b[A\n",
      "\n",
      "chain 3 |\u001b[34m██████████\u001b[0m| 00:00 Iteration: 1400 / 1500 [ 93%]  (Sampling)\u001b[A\u001b[A\n",
      "\n",
      "\n",
      "chain 1 |\u001b[34m██████████\u001b[0m| 00:00 Sampling completed1500 [  6%]  (Warmup)\u001b[A\u001b[A\u001b[A\n",
      "\n",
      "chain 2 |\u001b[34m██████████\u001b[0m| 00:00 Sampling completed\u001b[A\n",
      "chain 3 |\u001b[34m██████████\u001b[0m| 00:00 Sampling completed                       \n",
      "chain 4 |\u001b[34m██████████\u001b[0m| 00:00 Sampling completed                     "
     ]
    },
    {
     "name": "stdout",
     "output_type": "stream",
     "text": [
      "                                                                                                                                                                                                                                                                                                                                "
     ]
    },
    {
     "name": "stderr",
     "output_type": "stream",
     "text": [
      "\n",
      "18:12:13 - cmdstanpy - INFO - CmdStan done processing.\n",
      "18:12:13 - cmdstanpy - WARNING - Some chains may have failed to converge.\n",
      "\tChain 1 had 2 divergent transitions (0.2%)\n",
      "\tChain 4 had 1 divergent transitions (0.1%)\n",
      "\tUse function \"diagnose()\" to see further information.\n"
     ]
    },
    {
     "name": "stdout",
     "output_type": "stream",
     "text": [
      "\n",
      "CPU times: user 79 ms, sys: 22.8 ms, total: 102 ms\n",
      "Wall time: 269 ms\n"
     ]
    }
   ],
   "source": [
    "%%time\n",
    "data = \"8schools.data.json\"\n",
    "fit = model.sample(data=data, iter_sampling=1000, iter_warmup=500)"
   ]
  },
  {
   "cell_type": "markdown",
   "id": "jewish-editing",
   "metadata": {},
   "source": [
    "- 200ms強を要しており、微差ではあるがPyStan2（163ms）よりやや遅い？"
   ]
  },
  {
   "cell_type": "code",
   "execution_count": 7,
   "id": "going-iceland",
   "metadata": {},
   "outputs": [
    {
     "data": {
      "text/html": [
       "<div>\n",
       "<style scoped>\n",
       "    .dataframe tbody tr th:only-of-type {\n",
       "        vertical-align: middle;\n",
       "    }\n",
       "\n",
       "    .dataframe tbody tr th {\n",
       "        vertical-align: top;\n",
       "    }\n",
       "\n",
       "    .dataframe thead th {\n",
       "        text-align: right;\n",
       "    }\n",
       "</style>\n",
       "<table border=\"1\" class=\"dataframe\">\n",
       "  <thead>\n",
       "    <tr style=\"text-align: right;\">\n",
       "      <th></th>\n",
       "      <th>Mean</th>\n",
       "      <th>MCSE</th>\n",
       "      <th>StdDev</th>\n",
       "      <th>5%</th>\n",
       "      <th>50%</th>\n",
       "      <th>95%</th>\n",
       "      <th>N_Eff</th>\n",
       "      <th>N_Eff/s</th>\n",
       "      <th>R_hat</th>\n",
       "    </tr>\n",
       "    <tr>\n",
       "      <th>name</th>\n",
       "      <th></th>\n",
       "      <th></th>\n",
       "      <th></th>\n",
       "      <th></th>\n",
       "      <th></th>\n",
       "      <th></th>\n",
       "      <th></th>\n",
       "      <th></th>\n",
       "      <th></th>\n",
       "    </tr>\n",
       "  </thead>\n",
       "  <tbody>\n",
       "    <tr>\n",
       "      <th>lp__</th>\n",
       "      <td>-4.852800</td>\n",
       "      <td>0.076550</td>\n",
       "      <td>2.595570</td>\n",
       "      <td>-9.493650</td>\n",
       "      <td>-4.604730</td>\n",
       "      <td>-1.05976</td>\n",
       "      <td>1149.68</td>\n",
       "      <td>6684.21</td>\n",
       "      <td>1.004310</td>\n",
       "    </tr>\n",
       "    <tr>\n",
       "      <th>mu</th>\n",
       "      <td>7.804230</td>\n",
       "      <td>0.112907</td>\n",
       "      <td>4.987970</td>\n",
       "      <td>-0.211724</td>\n",
       "      <td>7.779770</td>\n",
       "      <td>15.77010</td>\n",
       "      <td>1951.66</td>\n",
       "      <td>11346.90</td>\n",
       "      <td>1.002200</td>\n",
       "    </tr>\n",
       "    <tr>\n",
       "      <th>tau</th>\n",
       "      <td>6.560580</td>\n",
       "      <td>0.145619</td>\n",
       "      <td>5.465320</td>\n",
       "      <td>0.502171</td>\n",
       "      <td>5.227680</td>\n",
       "      <td>17.28180</td>\n",
       "      <td>1408.62</td>\n",
       "      <td>8189.66</td>\n",
       "      <td>1.001100</td>\n",
       "    </tr>\n",
       "    <tr>\n",
       "      <th>eta[1]</th>\n",
       "      <td>0.402509</td>\n",
       "      <td>0.015871</td>\n",
       "      <td>0.973413</td>\n",
       "      <td>-1.234160</td>\n",
       "      <td>0.423385</td>\n",
       "      <td>1.99472</td>\n",
       "      <td>3761.51</td>\n",
       "      <td>21869.30</td>\n",
       "      <td>0.999815</td>\n",
       "    </tr>\n",
       "    <tr>\n",
       "      <th>eta[2]</th>\n",
       "      <td>0.020204</td>\n",
       "      <td>0.014403</td>\n",
       "      <td>0.867166</td>\n",
       "      <td>-1.409680</td>\n",
       "      <td>0.042121</td>\n",
       "      <td>1.41954</td>\n",
       "      <td>3624.87</td>\n",
       "      <td>21074.80</td>\n",
       "      <td>1.000120</td>\n",
       "    </tr>\n",
       "    <tr>\n",
       "      <th>eta[3]</th>\n",
       "      <td>-0.210209</td>\n",
       "      <td>0.014796</td>\n",
       "      <td>0.957735</td>\n",
       "      <td>-1.798150</td>\n",
       "      <td>-0.218614</td>\n",
       "      <td>1.35151</td>\n",
       "      <td>4189.77</td>\n",
       "      <td>24359.10</td>\n",
       "      <td>1.000170</td>\n",
       "    </tr>\n",
       "    <tr>\n",
       "      <th>eta[4]</th>\n",
       "      <td>0.006349</td>\n",
       "      <td>0.013795</td>\n",
       "      <td>0.886149</td>\n",
       "      <td>-1.439310</td>\n",
       "      <td>0.009969</td>\n",
       "      <td>1.46448</td>\n",
       "      <td>4126.61</td>\n",
       "      <td>23991.90</td>\n",
       "      <td>1.000400</td>\n",
       "    </tr>\n",
       "    <tr>\n",
       "      <th>eta[5]</th>\n",
       "      <td>-0.334944</td>\n",
       "      <td>0.014491</td>\n",
       "      <td>0.864738</td>\n",
       "      <td>-1.701340</td>\n",
       "      <td>-0.343935</td>\n",
       "      <td>1.11143</td>\n",
       "      <td>3560.82</td>\n",
       "      <td>20702.50</td>\n",
       "      <td>0.999918</td>\n",
       "    </tr>\n",
       "    <tr>\n",
       "      <th>eta[6]</th>\n",
       "      <td>-0.208016</td>\n",
       "      <td>0.013925</td>\n",
       "      <td>0.884984</td>\n",
       "      <td>-1.691420</td>\n",
       "      <td>-0.216465</td>\n",
       "      <td>1.24464</td>\n",
       "      <td>4039.16</td>\n",
       "      <td>23483.50</td>\n",
       "      <td>1.000020</td>\n",
       "    </tr>\n",
       "    <tr>\n",
       "      <th>eta[7]</th>\n",
       "      <td>0.341020</td>\n",
       "      <td>0.013694</td>\n",
       "      <td>0.860476</td>\n",
       "      <td>-1.094300</td>\n",
       "      <td>0.356617</td>\n",
       "      <td>1.75088</td>\n",
       "      <td>3948.39</td>\n",
       "      <td>22955.80</td>\n",
       "      <td>0.999670</td>\n",
       "    </tr>\n",
       "    <tr>\n",
       "      <th>eta[8]</th>\n",
       "      <td>0.068825</td>\n",
       "      <td>0.013508</td>\n",
       "      <td>0.918952</td>\n",
       "      <td>-1.454570</td>\n",
       "      <td>0.082495</td>\n",
       "      <td>1.57309</td>\n",
       "      <td>4628.22</td>\n",
       "      <td>26908.20</td>\n",
       "      <td>1.000520</td>\n",
       "    </tr>\n",
       "    <tr>\n",
       "      <th>theta[1]</th>\n",
       "      <td>11.372400</td>\n",
       "      <td>0.171753</td>\n",
       "      <td>8.404390</td>\n",
       "      <td>-0.045394</td>\n",
       "      <td>10.276100</td>\n",
       "      <td>26.92010</td>\n",
       "      <td>2394.43</td>\n",
       "      <td>13921.10</td>\n",
       "      <td>1.001100</td>\n",
       "    </tr>\n",
       "    <tr>\n",
       "      <th>theta[2]</th>\n",
       "      <td>7.922380</td>\n",
       "      <td>0.087576</td>\n",
       "      <td>6.115790</td>\n",
       "      <td>-2.180590</td>\n",
       "      <td>7.872170</td>\n",
       "      <td>17.93640</td>\n",
       "      <td>4876.85</td>\n",
       "      <td>28353.80</td>\n",
       "      <td>0.999523</td>\n",
       "    </tr>\n",
       "    <tr>\n",
       "      <th>theta[3]</th>\n",
       "      <td>6.064820</td>\n",
       "      <td>0.145393</td>\n",
       "      <td>7.865970</td>\n",
       "      <td>-7.519960</td>\n",
       "      <td>6.488970</td>\n",
       "      <td>17.79940</td>\n",
       "      <td>2926.98</td>\n",
       "      <td>17017.30</td>\n",
       "      <td>1.000020</td>\n",
       "    </tr>\n",
       "    <tr>\n",
       "      <th>theta[4]</th>\n",
       "      <td>7.724560</td>\n",
       "      <td>0.096494</td>\n",
       "      <td>6.568290</td>\n",
       "      <td>-3.399480</td>\n",
       "      <td>7.762560</td>\n",
       "      <td>18.54420</td>\n",
       "      <td>4633.45</td>\n",
       "      <td>26938.70</td>\n",
       "      <td>0.999608</td>\n",
       "    </tr>\n",
       "    <tr>\n",
       "      <th>theta[5]</th>\n",
       "      <td>5.065660</td>\n",
       "      <td>0.099036</td>\n",
       "      <td>6.208790</td>\n",
       "      <td>-6.272160</td>\n",
       "      <td>5.606610</td>\n",
       "      <td>14.30960</td>\n",
       "      <td>3930.29</td>\n",
       "      <td>22850.50</td>\n",
       "      <td>0.999700</td>\n",
       "    </tr>\n",
       "    <tr>\n",
       "      <th>theta[6]</th>\n",
       "      <td>6.059880</td>\n",
       "      <td>0.101799</td>\n",
       "      <td>6.603440</td>\n",
       "      <td>-5.875790</td>\n",
       "      <td>6.459790</td>\n",
       "      <td>16.03770</td>\n",
       "      <td>4207.82</td>\n",
       "      <td>24464.10</td>\n",
       "      <td>0.999984</td>\n",
       "    </tr>\n",
       "    <tr>\n",
       "      <th>theta[7]</th>\n",
       "      <td>10.602800</td>\n",
       "      <td>0.124219</td>\n",
       "      <td>6.898370</td>\n",
       "      <td>0.403925</td>\n",
       "      <td>9.962040</td>\n",
       "      <td>23.31430</td>\n",
       "      <td>3084.04</td>\n",
       "      <td>17930.50</td>\n",
       "      <td>1.001750</td>\n",
       "    </tr>\n",
       "    <tr>\n",
       "      <th>theta[8]</th>\n",
       "      <td>8.483850</td>\n",
       "      <td>0.124384</td>\n",
       "      <td>7.671180</td>\n",
       "      <td>-3.337380</td>\n",
       "      <td>8.188130</td>\n",
       "      <td>21.21870</td>\n",
       "      <td>3803.61</td>\n",
       "      <td>22114.00</td>\n",
       "      <td>1.000580</td>\n",
       "    </tr>\n",
       "  </tbody>\n",
       "</table>\n",
       "</div>"
      ],
      "text/plain": [
       "               Mean      MCSE    StdDev        5%        50%       95%  \\\n",
       "name                                                                     \n",
       "lp__      -4.852800  0.076550  2.595570 -9.493650  -4.604730  -1.05976   \n",
       "mu         7.804230  0.112907  4.987970 -0.211724   7.779770  15.77010   \n",
       "tau        6.560580  0.145619  5.465320  0.502171   5.227680  17.28180   \n",
       "eta[1]     0.402509  0.015871  0.973413 -1.234160   0.423385   1.99472   \n",
       "eta[2]     0.020204  0.014403  0.867166 -1.409680   0.042121   1.41954   \n",
       "eta[3]    -0.210209  0.014796  0.957735 -1.798150  -0.218614   1.35151   \n",
       "eta[4]     0.006349  0.013795  0.886149 -1.439310   0.009969   1.46448   \n",
       "eta[5]    -0.334944  0.014491  0.864738 -1.701340  -0.343935   1.11143   \n",
       "eta[6]    -0.208016  0.013925  0.884984 -1.691420  -0.216465   1.24464   \n",
       "eta[7]     0.341020  0.013694  0.860476 -1.094300   0.356617   1.75088   \n",
       "eta[8]     0.068825  0.013508  0.918952 -1.454570   0.082495   1.57309   \n",
       "theta[1]  11.372400  0.171753  8.404390 -0.045394  10.276100  26.92010   \n",
       "theta[2]   7.922380  0.087576  6.115790 -2.180590   7.872170  17.93640   \n",
       "theta[3]   6.064820  0.145393  7.865970 -7.519960   6.488970  17.79940   \n",
       "theta[4]   7.724560  0.096494  6.568290 -3.399480   7.762560  18.54420   \n",
       "theta[5]   5.065660  0.099036  6.208790 -6.272160   5.606610  14.30960   \n",
       "theta[6]   6.059880  0.101799  6.603440 -5.875790   6.459790  16.03770   \n",
       "theta[7]  10.602800  0.124219  6.898370  0.403925   9.962040  23.31430   \n",
       "theta[8]   8.483850  0.124384  7.671180 -3.337380   8.188130  21.21870   \n",
       "\n",
       "            N_Eff   N_Eff/s     R_hat  \n",
       "name                                   \n",
       "lp__      1149.68   6684.21  1.004310  \n",
       "mu        1951.66  11346.90  1.002200  \n",
       "tau       1408.62   8189.66  1.001100  \n",
       "eta[1]    3761.51  21869.30  0.999815  \n",
       "eta[2]    3624.87  21074.80  1.000120  \n",
       "eta[3]    4189.77  24359.10  1.000170  \n",
       "eta[4]    4126.61  23991.90  1.000400  \n",
       "eta[5]    3560.82  20702.50  0.999918  \n",
       "eta[6]    4039.16  23483.50  1.000020  \n",
       "eta[7]    3948.39  22955.80  0.999670  \n",
       "eta[8]    4628.22  26908.20  1.000520  \n",
       "theta[1]  2394.43  13921.10  1.001100  \n",
       "theta[2]  4876.85  28353.80  0.999523  \n",
       "theta[3]  2926.98  17017.30  1.000020  \n",
       "theta[4]  4633.45  26938.70  0.999608  \n",
       "theta[5]  3930.29  22850.50  0.999700  \n",
       "theta[6]  4207.82  24464.10  0.999984  \n",
       "theta[7]  3084.04  17930.50  1.001750  \n",
       "theta[8]  3803.61  22114.00  1.000580  "
      ]
     },
     "execution_count": 7,
     "metadata": {},
     "output_type": "execute_result"
    }
   ],
   "source": [
    "fit.summary()"
   ]
  },
  {
   "cell_type": "code",
   "execution_count": 9,
   "id": "creative-religious",
   "metadata": {},
   "outputs": [
    {
     "name": "stdout",
     "output_type": "stream",
     "text": [
      "Processing csv files: /tmp/tmp2ujed_qy/8schoolsj4xv6kqk/8schools-20220709181213_1.csv, /tmp/tmp2ujed_qy/8schoolsj4xv6kqk/8schools-20220709181213_2.csv, /tmp/tmp2ujed_qy/8schoolsj4xv6kqk/8schools-20220709181213_3.csv, /tmp/tmp2ujed_qy/8schoolsj4xv6kqk/8schools-20220709181213_4.csv\n",
      "\n",
      "Checking sampler transitions treedepth.\n",
      "Treedepth satisfactory for all transitions.\n",
      "\n",
      "Checking sampler transitions for divergences.\n",
      "3 of 4000 (0.07%) transitions ended with a divergence.\n",
      "These divergent transitions indicate that HMC is not fully able to explore the posterior distribution.\n",
      "Try increasing adapt delta closer to 1.\n",
      "If this doesn't remove all divergences, try to reparameterize the model.\n",
      "\n",
      "Checking E-BFMI - sampler transitions HMC potential energy.\n",
      "E-BFMI satisfactory.\n",
      "\n",
      "Effective sample size satisfactory.\n",
      "\n",
      "Split R-hat values satisfactory all parameters.\n",
      "\n",
      "Processing complete.\n",
      "\n"
     ]
    }
   ],
   "source": [
    "print(fit.diagnose())"
   ]
  },
  {
   "cell_type": "code",
   "execution_count": null,
   "id": "780c263d-2fa8-45c0-9aaf-942af9bff2e1",
   "metadata": {},
   "outputs": [],
   "source": []
  }
 ],
 "metadata": {
  "kernelspec": {
   "display_name": "Python 3 (ipykernel)",
   "language": "python",
   "name": "python3"
  },
  "language_info": {
   "codemirror_mode": {
    "name": "ipython",
    "version": 3
   },
   "file_extension": ".py",
   "mimetype": "text/x-python",
   "name": "python",
   "nbconvert_exporter": "python",
   "pygments_lexer": "ipython3",
   "version": "3.10.2"
  }
 },
 "nbformat": 4,
 "nbformat_minor": 5
}
